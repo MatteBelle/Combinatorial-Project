{
 "cells": [
  {
   "attachments": {},
   "cell_type": "markdown",
   "metadata": {},
   "source": [
    "SMT version for the MCP problem given in the Combinatorial Decision Making and Optimization course.\n",
    "\n",
    "The model is based on the one already developed for the CP version of the problem with the necessary modifications to make it work for the SMT version."
   ]
  },
  {
   "attachments": {},
   "cell_type": "markdown",
   "metadata": {},
   "source": [
    "Necessary libraries:"
   ]
  },
  {
   "cell_type": "code",
   "execution_count": 14,
   "metadata": {},
   "outputs": [],
   "source": [
    "#!pip install ortools"
   ]
  },
  {
   "attachments": {},
   "cell_type": "markdown",
   "metadata": {},
   "source": [
    "Necessary imports:"
   ]
  },
  {
   "cell_type": "code",
   "execution_count": 15,
   "metadata": {},
   "outputs": [],
   "source": [
    "from ortools.linear_solver import pywraplp\n",
    "import matplotlib.pyplot as plt # Matplotlib for plotting\n",
    "import numpy as np # Numpy for array manipulation\n",
    "import time\n",
    "import json"
   ]
  },
  {
   "cell_type": "code",
   "execution_count": 16,
   "metadata": {},
   "outputs": [],
   "source": [
    "def solve_courier_problem(m, n, courier_capacities, item_sizes, item_distances):\n",
    "    num_couriers = m\n",
    "    num_items = n\n",
    "    # I save the starting time\n",
    "    st = time.time()\n",
    "    \n",
    "    # I create the SOLVER\n",
    "    solver = pywraplp.Solver.CreateSolver('SCIP')\n",
    "    \n",
    "    # I create the VARIABLES\n",
    "    # Maximum distance travelled by a courier\n",
    "    max_distance = solver.NumVar(0, solver.infinity(), 'max_distance')\n",
    "    # Assignment matrix where assignment[i][j][k] is 1 if courier i takes item j and item k going from j to k\n",
    "    assignment = [[[solver.IntVar(0, 1, f'assignment_{i}_{j}_{k}') for j in range(num_items + 1)] for k in range(num_items + 1)] for i in range(num_couriers)]\n",
    "    # Matrix for the MTZ subtours-breaking formulation, where u[i][j] is the position of the node j in the tour of courier i\n",
    "    u = [[solver.IntVar(0, solver.infinity(), f'u_{i}_{j}') for j in range(num_items + 1)] for i in range(num_couriers)]\n",
    "    \n",
    "    # I create the CONSTRAINTS\n",
    "    # The diagonal of the matrix is 0\n",
    "    solver.Add(sum(assignment[i][j][j] for i in range(num_couriers) for j in range(num_items + 1)) == 0)\n",
    "    # Items are assigned to at most one courier\n",
    "    for j in range(num_items):\n",
    "        solver.Add(sum(assignment[i][j][k] for i in range(num_couriers) for k in range(num_items + 1)) == 1)\n",
    "        solver.Add(sum(assignment[i][k][j] for i in range(num_couriers) for k in range(num_items + 1)) == 1)\n",
    "    # Create multiple constraints\n",
    "    for i in range(num_couriers):\n",
    "        # We set lower boundaries for max distance, so that we can minimize it later\n",
    "        solver.Add(sum(assignment[i][j][k] * item_distances[j][k] for j in range(num_items + 1) for k in range(num_items + 1)) <= max_distance)\n",
    "        # Each courier carries at least one item\n",
    "        solver.Add(sum(assignment[i][num_items][k] for k in range(num_items + 1)) == 1)\n",
    "        # Courier capacities are respected\n",
    "        solver.Add(sum(assignment[i][j][k] * item_sizes[j] for j in range(num_items) for k in range(num_items + 1)) <= courier_capacities[i])\n",
    "        for j in range(num_items + 1):\n",
    "            # Create constraint: n arcs in, n arcs out\n",
    "            solver.Add(sum(assignment[i][j][k] for k in range(num_items + 1)) == sum(assignment[i][k][j] for k in range(num_items + 1)))\n",
    "\n",
    "    for i in range(num_couriers):\n",
    "        for j in range(0, num_items + 1):\n",
    "            for k in range(0, num_items + 1):\n",
    "                if j != k and j != num_items:\n",
    "                    # I add the constraint of the MTZ formulation such that the courier goes forward and visits all the nodes assigned to him\n",
    "                    solver.Add(u[i][j] - u[i][k] + 1 <= (num_items - 1) * (1 - assignment[i][j][k]))\n",
    "    \n",
    "    solver.Minimize(max_distance)\n",
    "    \n",
    "    solver.set_time_limit(300000)\n",
    "    \n",
    "    status = solver.Solve()\n",
    "\n",
    "    if status == pywraplp.Solver.OPTIMAL:\n",
    "        print('Solution:')\n",
    "        for i in range(num_couriers):\n",
    "            print(f'Courier {i} takes item: ')\n",
    "            print('{')\n",
    "            for j in range(num_items):\n",
    "                for k in range(num_items + 1):\n",
    "                    if assignment[i][j][k].solution_value() > 0:\n",
    "                        print(f' -> {j}')\n",
    "            print('}')\n",
    "        print('Max distance:', max_distance.solution_value())\n",
    "        print('Objective value:', solver.Objective().Value())\n",
    "        # I print the values of assignment\n",
    "        # for each courier i create and print a item matrix\n",
    "        print()\n",
    "        for i in range(num_couriers):\n",
    "            print(f'Courier {i} item matrix:')\n",
    "            for j in range(num_items + 1):\n",
    "                for k in range(num_items + 1):\n",
    "                    print(int(assignment[i][j][k].solution_value()), end=' ')\n",
    "                print()\n",
    "            print()\n",
    "        # I print the values of u\n",
    "        print()\n",
    "        print('u matrix:')\n",
    "        for i in range(num_couriers):\n",
    "            for j in range(num_items + 1):\n",
    "                print(int(u[i][j].solution_value()), end=' ')\n",
    "            print()\n",
    "        print(item_distances)\n",
    "        et = int(time.time())\n",
    "        execution_time = et - st\n",
    "        # number of items per courier\n",
    "        n_items_per_courier = []\n",
    "        # coordinates of items per courier\n",
    "        coordinates_per_courier = []\n",
    "        # for each courier i create a list of coordinates and a counter of items\n",
    "        for i in range(num_couriers):\n",
    "            coordinates_per_courier.append(dict())\n",
    "            n_items_per_courier.append(0)\n",
    "            for j in range(num_items + 1):\n",
    "                for k in range(num_items):\n",
    "                    if assignment[i][j][k].solution_value() > 0:\n",
    "                        n_items_per_courier[i] += 1\n",
    "                        # I save the coordinates of the item in the dictionary, where the key is the starting node and the value is the ending node\n",
    "                        coordinates_per_courier[i][j] = k\n",
    "        print(n_items_per_courier)\n",
    "        print(coordinates_per_courier)\n",
    "        best_paths_items = [[] for i in range(num_couriers)]\n",
    "        # for each courier i create a list of items from the dictionary but in a ordered, formated fashion\n",
    "        for i in range(num_couriers):\n",
    "            best_paths_items[i].append(coordinates_per_courier[i][num_items])\n",
    "            while len(best_paths_items[i]) < n_items_per_courier[i]:\n",
    "                best_paths_items[i].append(coordinates_per_courier[i][best_paths_items[i][-1]])\n",
    "        print(best_paths_items)\n",
    "                    \n",
    "        return max_distance.solution_value(), best_paths_items, execution_time\n",
    "    else:\n",
    "        print('The problem does not have an optimal solution.')\n",
    "        return -1, [[]], -1"
   ]
  },
  {
   "attachments": {},
   "cell_type": "markdown",
   "metadata": {},
   "source": [
    "The variable instances (like number of couriers) are defined in a .dat file. The file is read and the variables are defined."
   ]
  },
  {
   "cell_type": "code",
   "execution_count": 20,
   "metadata": {},
   "outputs": [],
   "source": [
    "def printJson():\n",
    "\n",
    "    solverName = 'ortools'\n",
    "    numInstances = 15\n",
    "    formatted_list = [\"%.2d\" % i for i in range(1, numInstances + 1)]\n",
    "    simple_list = [i for i in range(1, numInstances + 1)]\n",
    "   \n",
    "\n",
    "\n",
    "    for i in range(11,numInstances):\n",
    "         # open the file in Instances folder\n",
    "        f = open(f\"Instances/inst{formatted_list[i]}.dat\", \"r\")\n",
    "        # the first line is the number of couriers\n",
    "        m = int(f.readline())\n",
    "        # the second line is the number of items\n",
    "        n = int(f.readline())\n",
    "        # the third line is the load size of each courier\n",
    "        load_size = [int(x) for x in f.readline().split()]\n",
    "        # the fourth line is the size of each item\n",
    "        item_size = [int(x) for x in f.readline().split()]\n",
    "        # the rest is the distance matrix\n",
    "        distance = []\n",
    "        for j in range(n+1):\n",
    "            distance.append([int(x) for x in f.readline().split()])\n",
    "        # close the file\n",
    "        f.close()\n",
    "\n",
    "        print(\"Solving Instance\", i+1, \"with ortools\")\n",
    "        obj, sol, time = solve_courier_problem(m,n, load_size, item_size, distance)\n",
    "        opt = True\n",
    "\n",
    "        #adding 1 to all the elements of sol\n",
    "        for j in range(len(sol)):\n",
    "            sol[j] = np.array(sol[j]) + 1\n",
    "            sol[j] = sol[j].tolist()\n",
    "\n",
    "\n",
    "\n",
    "        data = dict([(solverName,dict([\n",
    "            ('time', time),\n",
    "            ('optimal',opt),\n",
    "            ('obj', obj),\n",
    "            ('sol', sol)\n",
    "            ]))])\n",
    "\n",
    "\n",
    "        json_string = json.dumps(data)\n",
    "\n",
    "        with open(f'./output_folder/MIP/{simple_list[i]}.json', 'w') as outfile:\n",
    "            outfile.write(json_string)\n"
   ]
  },
  {
   "cell_type": "code",
   "execution_count": 21,
   "metadata": {},
   "outputs": [
    {
     "name": "stdout",
     "output_type": "stream",
     "text": [
      "Solving Instance 12 with ortools\n",
      "The problem does not have an optimal solution.\n",
      "Solving Instance 13 with ortools\n",
      "The problem does not have an optimal solution.\n",
      "Solving Instance 14 with ortools\n",
      "The problem does not have an optimal solution.\n",
      "Solving Instance 15 with ortools\n",
      "The problem does not have an optimal solution.\n"
     ]
    }
   ],
   "source": [
    "printJson()"
   ]
  },
  {
   "cell_type": "code",
   "execution_count": null,
   "metadata": {},
   "outputs": [],
   "source": []
  }
 ],
 "metadata": {
  "kernelspec": {
   "display_name": "va",
   "language": "python",
   "name": "python3"
  },
  "language_info": {
   "codemirror_mode": {
    "name": "ipython",
    "version": 3
   },
   "file_extension": ".py",
   "mimetype": "text/x-python",
   "name": "python",
   "nbconvert_exporter": "python",
   "pygments_lexer": "ipython3",
   "version": "3.10.4"
  },
  "orig_nbformat": 4
 },
 "nbformat": 4,
 "nbformat_minor": 2
}
