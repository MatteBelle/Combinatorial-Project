{
 "cells": [
  {
   "attachments": {},
   "cell_type": "markdown",
   "metadata": {},
   "source": [
    "SMT version for the MCP problem given in the Combinatorial Decision Making and Optimization course.\n",
    "\n",
    "The model is based on the one already developed for the CP version of the problem with the necessary modifications to make it work for the SMT version."
   ]
  },
  {
   "attachments": {},
   "cell_type": "markdown",
   "metadata": {},
   "source": [
    "Necessary libraries:"
   ]
  },
  {
   "cell_type": "code",
   "execution_count": null,
   "metadata": {},
   "outputs": [],
   "source": [
    "#!pip install z3-solver"
   ]
  },
  {
   "cell_type": "code",
   "execution_count": null,
   "metadata": {},
   "outputs": [],
   "source": []
  },
  {
   "attachments": {},
   "cell_type": "markdown",
   "metadata": {},
   "source": [
    "Necessary imports:"
   ]
  },
  {
   "cell_type": "code",
   "execution_count": 16,
   "metadata": {},
   "outputs": [],
   "source": [
    "from z3 import * # The Z3 Theorem Prover\n",
    "import numpy as np # Numpy for matrix operations\n",
    "import matplotlib.pyplot as plt # Matplotlib for plotting\n",
    "import time\n",
    "import json"
   ]
  },
  {
   "attachments": {},
   "cell_type": "markdown",
   "metadata": {},
   "source": [
    "The variable instances (like number of couriers) are defined in a .dat file. The file is read and the variables are defined."
   ]
  },
  {
   "cell_type": "code",
   "execution_count": 20,
   "metadata": {},
   "outputs": [],
   "source": [
    "def printJson():\n",
    "\n",
    "    solverName = 'Z3'\n",
    "    numInstances = 1\n",
    "    formatted_list = [\"%.2d\" % i for i in range(1, numInstances + 1)]\n",
    "    simple_list = [i for i in range(1, numInstances + 1)]\n",
    "   \n",
    "\n",
    "\n",
    "    for i in range(numInstances):\n",
    "         # open the file in Instances folder\n",
    "        f = open(f\"Instances/inst{formatted_list[i]}.dat\", \"r\")\n",
    "        # the first line is the number of couriers\n",
    "        m = int(f.readline())\n",
    "        # the second line is the number of items\n",
    "        n = int(f.readline())\n",
    "        # the third line is the load size of each courier\n",
    "        load_size = [int(x) for x in f.readline().split()]\n",
    "        # the fourth line is the size of each item\n",
    "        item_size = [int(x) for x in f.readline().split()]\n",
    "        # the rest is the distance matrix\n",
    "        distance = []\n",
    "        for j in range(n+1):\n",
    "            distance.append([int(x) for x in f.readline().split()])\n",
    "        # close the file\n",
    "        f.close()\n",
    "\n",
    "        print(\"Solving Instance\", i+1, \"with Z3\")\n",
    "        obj, sol, time = solve_courier_problem(m,n, load_size, item_size, distance)\n",
    "        opt = True\n",
    "\n",
    "        #adding 1 to all the elements of sol\n",
    "        for j in range(len(sol)):\n",
    "            sol[j] = np.array(sol[j]) + 1\n",
    "            sol[j] = sol[j].tolist()\n",
    "\n",
    "\n",
    "\n",
    "        data = dict([(solverName,dict([\n",
    "            ('time', time),\n",
    "            ('optimal',opt),\n",
    "            ('obj', obj),\n",
    "            ('sol', sol)\n",
    "            ]))])\n",
    "\n",
    "\n",
    "        json_string = json.dumps(data)\n",
    "\n",
    "        with open(f'./output_folder/SMT/{simple_list[i]}.json', 'w') as outfile:\n",
    "            outfile.write(json_string)\n"
   ]
  },
  {
   "cell_type": "code",
   "execution_count": 21,
   "metadata": {},
   "outputs": [],
   "source": [
    "def solve_courier_problem(m,n, load_size, item_size, distance):\n",
    "\n",
    "    max_path_length = n-(m-1)\n",
    "    paths = [[Int(\"p_%s_%s\" % (i,j)) for j in range(max_path_length)] for i in range(m)] \n",
    "    # create a matrix of mxn boolean variables for the assignment of items to couriers\n",
    "    assignment = [[Bool(\"a_%s_%s\" % (i,j)) for j in range(n)] for i in range(m)]\n",
    "    # Create a solver instance\n",
    "    s = Solver()\n",
    "\n",
    "    constraints = []\n",
    "    constraints.append(n>=m)\n",
    "\n",
    "    # Main constraints:\n",
    "\n",
    "    # Each item has a size > 0 and <= max(load size)\n",
    "    for i in range(n):\n",
    "        constraints.append(And(item_size[i] > 0, item_size[i] <= max(load_size)))\n",
    "\n",
    "    # Each item is delivered at most by one courier, and at least by one courier\n",
    "    for i in range(n):\n",
    "        constraints.append(Sum([If(paths[c][j] == i, 1, 0) for c in range(m) for j in range(max_path_length)]) == 1)\n",
    "\n",
    "    # assignement constraints \n",
    "    for c in range(m):\n",
    "        for i in range(n):\n",
    "            constraints.append(assignment[c][i] == Or([paths[c][j] == i for j in range(max_path_length)]))\n",
    "\n",
    "    # Each courier can carry at most its load size\n",
    "    for c in range(m):\n",
    "        constraints.append(Sum([If(assignment[c][i], item_size[i], 0) for i in range(n)]) <= load_size[c])\n",
    "\n",
    "    # Each courier must deliver at least one item\n",
    "    for c in range(m):\n",
    "        constraints.append(Sum([If(assignment[c][i], 1, 0) for i in range(n)]) >= 1)\n",
    "\n",
    "    best_max_distance = math.inf\n",
    "    s.add(constraints)\n",
    "    courier_distances = [[0] for c in range(m)]\n",
    "    courier_loads = [[0] for c in range(m)]\n",
    "    best_courier_distances = [[0] for c in range(m)]\n",
    "    break_counter = 0\n",
    "    loop_counter = 0\n",
    "    st = time.time()\n",
    "    for l in range(1000):\n",
    "        if s.check() == sat:\n",
    "            loop_counter += 1\n",
    "            model = s.model()\n",
    "            # get the values of the paths\n",
    "            paths_values = [[model[paths[i][j]] for j in range(max_path_length)] for i in range(m)]\n",
    "            # get path for each courier as a list of items, taking only the values in the range [0,n-1]\n",
    "            paths_items = [[paths_values[i][j].as_long() for j in range(max_path_length) if paths_values[i][j].as_long() < n] for i in range(m)]\n",
    "            paths_items = [list(filter(lambda x: x != -1, paths_items[i])) for i in range(m)] \n",
    "            # get the total distance for each courier by adding also the distance from the depot to the first item and from the last item to the depot\n",
    "            for c in range(m):\n",
    "                dist = distance[n][paths_items[c][0]] + distance[paths_items[c][-1]][n]\n",
    "                for i in range(len(paths_items[c])-1):\n",
    "                    dist += distance[paths_items[c][i]][paths_items[c][i+1]]\n",
    "                courier_distances[c][0] = dist\n",
    "\n",
    "            # only accept solutions with max distance < best_max_distance\n",
    "            # and update best_max_distance\n",
    "            max_distance = max([courier_distances[c][0] for c in range(m)])\n",
    "            if max_distance < best_max_distance:\n",
    "                best_max_distance = max_distance\n",
    "                break_counter = loop_counter\n",
    "                best_courier_distances = courier_distances.copy()\n",
    "\n",
    "                best_paths_items = paths_items.copy()\n",
    "                best_courier_distances = courier_distances.copy()\n",
    "                # print(\"max_distance:\", max_distance)\n",
    "                # print(\"paths_items:\", paths_items)\n",
    "                # print(\"courier_distances:\", courier_distances)\n",
    "\n",
    "            else:\n",
    "                if loop_counter - break_counter > 200:\n",
    "                    break\n",
    "        else:\n",
    "            break\n",
    "    et = time.time()\n",
    "    elapsed_time = int(et - st)\n",
    "    print(best_paths_items)\n",
    "    return best_max_distance, best_paths_items, elapsed_time\n",
    "\n"
   ]
  },
  {
   "cell_type": "code",
   "execution_count": 22,
   "metadata": {},
   "outputs": [
    {
     "name": "stdout",
     "output_type": "stream",
     "text": [
      "Solving Instance 1 with Z3\n",
      "[[0, 2, 3], [1, 4, 5]]\n",
      "Solving Instance 2 with Z3\n",
      "[[6, 4], [1], [0], [3], [7, 5], [2, 8]]\n",
      "Solving Instance 3 with Z3\n",
      "[[4, 3, 1], [5, 2], [6, 0]]\n",
      "Solving Instance 4 with Z3\n",
      "[[5], [7], [2], [8], [4, 9], [3], [0], [6, 1]]\n",
      "Solving Instance 5 with Z3\n",
      "[[1], [0, 2]]\n",
      "Solving Instance 6 with Z3\n",
      "[[2], [4], [5], [0, 7, 3], [6], [1]]\n",
      "Solving Instance 7 with Z3\n"
     ]
    }
   ],
   "source": [
    "printJson()"
   ]
  },
  {
   "cell_type": "code",
   "execution_count": null,
   "metadata": {},
   "outputs": [],
   "source": []
  }
 ],
 "metadata": {
  "kernelspec": {
   "display_name": "va",
   "language": "python",
   "name": "python3"
  },
  "language_info": {
   "codemirror_mode": {
    "name": "ipython",
    "version": 3
   },
   "file_extension": ".py",
   "mimetype": "text/x-python",
   "name": "python",
   "nbconvert_exporter": "python",
   "pygments_lexer": "ipython3",
   "version": "3.10.4"
  },
  "orig_nbformat": 4
 },
 "nbformat": 4,
 "nbformat_minor": 2
}
