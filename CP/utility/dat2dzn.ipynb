{
 "cells": [
  {
   "cell_type": "code",
   "execution_count": 19,
   "metadata": {},
   "outputs": [
    {
     "name": "stdout",
     "output_type": "stream",
     "text": [
      "couriers: 20\n",
      "items: 143\n",
      "load_size: [185, 190, 200, 180, 200, 190, 200, 180, 200, 190, 180, 190, 200, 180, 185, 180, 195, 190, 195, 190]\n",
      "item_size: [9, 22, 10, 24, 25, 6, 22, 1, 19, 19, 5, 9, 8, 14, 4, 7, 10, 22, 17, 10, 8, 14, 12, 17, 19, 25, 25, 6, 21, 3, 19, 16, 21, 17, 19, 6, 10, 22, 17, 16, 5, 1, 21, 20, 6, 1, 11, 22, 25, 18, 9, 23, 17, 4, 1, 14, 11, 7, 21, 3, 18, 5, 6, 22, 13, 17, 5, 7, 1, 3, 10, 5, 1, 17, 14, 4, 10, 25, 11, 16, 25, 20, 3, 7, 2, 6, 14, 14, 2, 15, 22, 4, 22, 19, 5, 10, 4, 7, 11, 14, 2, 12, 12, 24, 8, 4, 25, 6, 9, 23, 15, 7, 6, 5, 12, 3, 22, 18, 16, 5, 1, 8, 20, 17, 11, 8, 15, 16, 6, 24, 10, 4, 10, 17, 5, 14, 16, 11, 25, 4, 12, 19, 6]\n",
      "distance:\n",
      " [[  0  83  20 ...  86  65  58]\n",
      " [ 83   0  91 ...  16  60  79]\n",
      " [ 20  91   0 ... 106  73  66]\n",
      " ...\n",
      " [ 86  16 106 ...   0  76  95]\n",
      " [ 65  60  73 ...  76   0  19]\n",
      " [ 58  79  66 ...  95  19   0]]\n"
     ]
    }
   ],
   "source": [
    "# utility file used to generate mzn data files from the dat files\n",
    "import numpy as np\n",
    "# open the file in Instances folder\n",
    "f = open(\"Instances/inst21.dat\", \"r\")\n",
    "# the first line is the number of couriers\n",
    "m = int(f.readline())\n",
    "# the second line is the number of items\n",
    "n = int(f.readline())\n",
    "# the third line is the load size of each courier\n",
    "load_size = [int(x) for x in f.readline().split()]\n",
    "# the fourth line is the size of each item\n",
    "item_size = [int(x) for x in f.readline().split()]\n",
    "# the rest is the distance matrix\n",
    "distance = []\n",
    "for i in range(n+1):\n",
    "    distance.append([int(x) for x in f.readline().split()])\n",
    "# close the file\n",
    "f.close()\n",
    "print(\"couriers:\", m)\n",
    "print(\"items:\", n)\n",
    "print(\"load_size:\", load_size)\n",
    "print(\"item_size:\", item_size)\n",
    "# output the distance matrix as a numpy array\n",
    "distance = np.array(distance)\n",
    "print(\"distance:\\n\", distance)\n",
    "\n",
    "# create a txt file to store the output formated as required\n",
    "f = open(\"Instances/inst21.dzn\", \"w\")\n",
    "f.write(\"m = \" + str(m) + \";\" + \"\\n\")\n",
    "f.write(\"n = \" + str(n) + \";\" + \"\\n\")\n",
    "f.write(\"load_sizes = \" + str(load_size) + \";\" + \"\\n\")\n",
    "f.write(\"sizes = \" + str(item_size) + \";\" + \"\\n\")\n",
    "f.write(\"distances = [|\")\n",
    "for i in range(n+1):\n",
    "    for j in range(n+1):\n",
    "        if j>0:\n",
    "            f.write(\", \")\n",
    "        f.write(str(distance[i][j]))\n",
    "    if i == n:\n",
    "        f.write(\"|];\")    \n",
    "    else:\n",
    "        f.write(\"\\n\" + \"|\")\n",
    "f.close()"
   ]
  },
  {
   "cell_type": "code",
   "execution_count": null,
   "metadata": {},
   "outputs": [],
   "source": []
  },
  {
   "cell_type": "code",
   "execution_count": null,
   "metadata": {},
   "outputs": [],
   "source": []
  }
 ],
 "metadata": {
  "kernelspec": {
   "display_name": "va",
   "language": "python",
   "name": "python3"
  },
  "language_info": {
   "codemirror_mode": {
    "name": "ipython",
    "version": 3
   },
   "file_extension": ".py",
   "mimetype": "text/x-python",
   "name": "python",
   "nbconvert_exporter": "python",
   "pygments_lexer": "ipython3",
   "version": "3.10.2"
  },
  "orig_nbformat": 4
 },
 "nbformat": 4,
 "nbformat_minor": 2
}
