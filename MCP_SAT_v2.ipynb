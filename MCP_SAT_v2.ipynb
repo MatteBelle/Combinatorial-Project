{
 "cells": [
  {
   "attachments": {},
   "cell_type": "markdown",
   "metadata": {},
   "source": [
    "SAT version for the MCP problem given in the Combinatorial Decision Making and Optimization course.\n",
    "\n",
    "The model is based on the one already developed for the CP version of the problem with the necessary modifications to make it work for the SAT version."
   ]
  },
  {
   "attachments": {},
   "cell_type": "markdown",
   "metadata": {},
   "source": [
    "Necessary libraries:"
   ]
  },
  {
   "cell_type": "code",
   "execution_count": 1,
   "metadata": {},
   "outputs": [
    {
     "name": "stdout",
     "output_type": "stream",
     "text": [
      "Requirement already satisfied: z3-solver in c:\\users\\utente\\anaconda3\\envs\\va\\lib\\site-packages (4.12.2.0)\n"
     ]
    }
   ],
   "source": [
    "!pip3 install z3-solver"
   ]
  },
  {
   "attachments": {},
   "cell_type": "markdown",
   "metadata": {},
   "source": [
    "Necessary imports:"
   ]
  },
  {
   "cell_type": "code",
   "execution_count": 2,
   "metadata": {},
   "outputs": [],
   "source": [
    "from z3 import * # The Z3 Theorem Prover\n",
    "import numpy as np # Numpy for matrix operations\n",
    "import matplotlib.pyplot as plt # Matplotlib for plotting"
   ]
  },
  {
   "attachments": {},
   "cell_type": "markdown",
   "metadata": {},
   "source": [
    "The variable instances (like number of couriers) are defined in a .dat file. The file is read and the variables are defined."
   ]
  },
  {
   "cell_type": "code",
   "execution_count": 3,
   "metadata": {},
   "outputs": [
    {
     "name": "stdout",
     "output_type": "stream",
     "text": [
      "couriers: 3\n",
      "items: 7\n",
      "load_size: [15, 10, 7]\n",
      "item_size: [3, 2, 6, 8, 5, 4, 4]\n",
      "distance:\n",
      " [[0 3 3 6 5 6 6 2]\n",
      " [3 0 6 3 4 7 7 3]\n",
      " [3 4 0 7 6 3 5 3]\n",
      " [6 3 7 0 5 6 7 4]\n",
      " [5 4 6 3 0 3 3 3]\n",
      " [6 7 3 6 3 0 2 4]\n",
      " [6 7 5 6 3 2 0 4]\n",
      " [2 3 3 4 3 4 4 0]]\n"
     ]
    }
   ],
   "source": [
    "# open the file in Instances folder\n",
    "f = open(\"Instances/inst03.dat\", \"r\")\n",
    "# the first line is the number of couriers\n",
    "m = int(f.readline())\n",
    "# the second line is the number of items\n",
    "n = int(f.readline())\n",
    "# the third line is the load size of each courier\n",
    "load_size = [int(x) for x in f.readline().split()]\n",
    "# the fourth line is the size of each item\n",
    "item_size = [int(x) for x in f.readline().split()]\n",
    "# the rest is the distance matrix\n",
    "distance = []\n",
    "for i in range(n+1):\n",
    "    distance.append([int(x) for x in f.readline().split()])\n",
    "# close the file\n",
    "f.close()\n",
    "print(\"couriers:\", m)\n",
    "print(\"items:\", n)\n",
    "print(\"load_size:\", load_size)\n",
    "print(\"item_size:\", item_size)\n",
    "# output the distance matrix as a numpy array\n",
    "distance = np.array(distance)\n",
    "print(\"distance:\\n\", distance)"
   ]
  },
  {
   "attachments": {},
   "cell_type": "markdown",
   "metadata": {},
   "source": [
    "Other variables:"
   ]
  },
  {
   "cell_type": "code",
   "execution_count": 5,
   "metadata": {},
   "outputs": [],
   "source": [
    "COURIERS = np.arange(m)\n",
    "ITEMS = np.arange(n)\n",
    "items_total = sum(item_size)\n",
    "# ITEMS_PATH = np.arange(1, max_path_length-1)\n",
    "# path array \n",
    "paths = [[Bool(f'item_{c}_{i}') for i in ITEMS] for c in COURIERS]"
   ]
  },
  {
   "cell_type": "code",
   "execution_count": 6,
   "metadata": {},
   "outputs": [
    {
     "data": {
      "text/plain": [
       "[[item_0_0, item_0_1, item_0_2, item_0_3, item_0_4, item_0_5, item_0_6],\n",
       " [item_1_0, item_1_1, item_1_2, item_1_3, item_1_4, item_1_5, item_1_6],\n",
       " [item_2_0, item_2_1, item_2_2, item_2_3, item_2_4, item_2_5, item_2_6]]"
      ]
     },
     "execution_count": 6,
     "metadata": {},
     "output_type": "execute_result"
    }
   ],
   "source": [
    "paths"
   ]
  },
  {
   "cell_type": "code",
   "execution_count": 8,
   "metadata": {},
   "outputs": [
    {
     "data": {
      "text/html": [
       "&not;(x = y) &and; &not;(x = z) &and; &not;(y = z)"
      ],
      "text/plain": [
       "And(Not(x == y), Not(x == z), Not(y == z))"
      ]
     },
     "execution_count": 8,
     "metadata": {},
     "output_type": "execute_result"
    }
   ],
   "source": [
    "x = Int('x')\n",
    "y = Int('y')\n",
    "Distinct(x, y)\n",
    "x != y\n",
    "z = Int('z')\n",
    "Distinct(x, y, z)\n",
    "Distinct(x, y, z)\n",
    "simplify(Distinct(x, y, z))\n",
    "Distinct(x, y, z)\n",
    "simplify(Distinct(x, y, z), blast_distinct=True)"
   ]
  },
  {
   "attachments": {},
   "cell_type": "markdown",
   "metadata": {},
   "source": [
    "Formulation of the constraints:"
   ]
  },
  {
   "cell_type": "code",
   "execution_count": 7,
   "metadata": {},
   "outputs": [
    {
     "ename": "IndentationError",
     "evalue": "expected an indented block after 'for' statement on line 20 (186837946.py, line 24)",
     "output_type": "error",
     "traceback": [
      "\u001b[1;36m  Cell \u001b[1;32mIn[7], line 24\u001b[1;36m\u001b[0m\n\u001b[1;33m    for c in COURIERS:\u001b[0m\n\u001b[1;37m    ^\u001b[0m\n\u001b[1;31mIndentationError\u001b[0m\u001b[1;31m:\u001b[0m expected an indented block after 'for' statement on line 20\n"
     ]
    }
   ],
   "source": [
    "constraints = []\n",
    "I =  Bool(1)\n",
    "# the constraint are the same as the CP model version 2\n",
    "# number of items > number of couriers\n",
    "constraints.append(n > m)\n",
    "\n",
    "# Sum of item sizes cannot be bigger than total load size\n",
    "constraints.append(items_total <= Sum([load_size[i] for i in COURIERS]))\n",
    "\n",
    "\n",
    "# each item should have size > 0\n",
    "for i in ITEMS:\n",
    "    constraints.append(item_size[i] > 0)\n",
    "\n",
    "# each courier should have load size > 0\n",
    "for c in COURIERS:\n",
    "    constraints.append(load_size[c] > 0)\n",
    "\n",
    "# Each item is delivered at most by one courier, so each column should have at most one 1\n",
    "for i in ITEMS:\n",
    "    constraints.append(Distinct(paths[:,i]))\n",
    "\n",
    "# Each courier delivers at least one item\n",
    "for c in COURIERS:\n",
    "    constraints.append(Or([paths[c][p] != n for p in PATH]))\n",
    "    # constraints.append(Sum([If(paths[c][p] != n, 1, 0) for p in ITEMS_PATH]) >= 1)\n",
    "\n",
    "# First element and last element in path is the origin (n+1)\n",
    "# for c in COURIERS:\n",
    "    #constraints.append(paths[c][0] == n )\n",
    "    # constraints.append(paths[c][max_path_length - 1] == n )\n",
    "\n",
    "# Each courier's items sizes must not excede his load size\n",
    "for i in ITEMS:\n",
    "    for c in COURIERS:\n",
    "        constraints.append(Sum([If(paths[c][p] == i, item_size[i], 0) for p in PATH]) <= load_size[c])\n",
    "    \n",
    "constraints\n",
    "# print number of constraints\n",
    "print(len(constraints))"
   ]
  },
  {
   "cell_type": "code",
   "execution_count": 38,
   "metadata": {},
   "outputs": [
    {
     "name": "stdout",
     "output_type": "stream",
     "text": [
      "3 + 3*x + y\n",
      "Not(y <= -2)\n"
     ]
    }
   ],
   "source": [
    "x = Int('x')\n",
    "y = Int('y')\n",
    "print (simplify(x + y + 2*x + 3))\n",
    "print (simplify(x < y + x + 2))"
   ]
  },
  {
   "cell_type": "code",
   "execution_count": 35,
   "metadata": {},
   "outputs": [
    {
     "data": {
      "text/plain": [
       "[True,\n",
       " True,\n",
       " And(paths_0_1 >= 0, paths_0_1 <= 7),\n",
       " And(paths_0_2 >= 0, paths_0_2 <= 7),\n",
       " And(paths_0_3 >= 0, paths_0_3 <= 7),\n",
       " And(paths_1_1 >= 0, paths_1_1 <= 7),\n",
       " And(paths_1_2 >= 0, paths_1_2 <= 7),\n",
       " And(paths_1_3 >= 0, paths_1_3 <= 7),\n",
       " And(paths_2_1 >= 0, paths_2_1 <= 7),\n",
       " And(paths_2_2 >= 0, paths_2_2 <= 7),\n",
       " And(paths_2_3 >= 0, paths_2_3 <= 7),\n",
       " True,\n",
       " True,\n",
       " True,\n",
       " True,\n",
       " True,\n",
       " True,\n",
       " True,\n",
       " True,\n",
       " True,\n",
       " True,\n",
       " If(paths_0_0 == 0, 1, 0) +\n",
       " If(paths_0_1 == 0, 1, 0) +\n",
       " If(paths_0_2 == 0, 1, 0) +\n",
       " If(paths_0_3 == 0, 1, 0) +\n",
       " If(paths_0_4 == 0, 1, 0) +\n",
       " If(paths_1_0 == 0, 1, 0) +\n",
       " If(paths_1_1 == 0, 1, 0) +\n",
       " If(paths_1_2 == 0, 1, 0) +\n",
       " If(paths_1_3 == 0, 1, 0) +\n",
       " If(paths_1_4 == 0, 1, 0) +\n",
       " If(paths_2_0 == 0, 1, 0) +\n",
       " If(paths_2_1 == 0, 1, 0) +\n",
       " If(paths_2_2 == 0, 1, 0) +\n",
       " If(paths_2_3 == 0, 1, 0) +\n",
       " If(paths_2_4 == 0, 1, 0) ==\n",
       " 1,\n",
       " If(paths_0_0 == 1, 1, 0) +\n",
       " If(paths_0_1 == 1, 1, 0) +\n",
       " If(paths_0_2 == 1, 1, 0) +\n",
       " If(paths_0_3 == 1, 1, 0) +\n",
       " If(paths_0_4 == 1, 1, 0) +\n",
       " If(paths_1_0 == 1, 1, 0) +\n",
       " If(paths_1_1 == 1, 1, 0) +\n",
       " If(paths_1_2 == 1, 1, 0) +\n",
       " If(paths_1_3 == 1, 1, 0) +\n",
       " If(paths_1_4 == 1, 1, 0) +\n",
       " If(paths_2_0 == 1, 1, 0) +\n",
       " If(paths_2_1 == 1, 1, 0) +\n",
       " If(paths_2_2 == 1, 1, 0) +\n",
       " If(paths_2_3 == 1, 1, 0) +\n",
       " If(paths_2_4 == 1, 1, 0) ==\n",
       " 1,\n",
       " If(paths_0_0 == 2, 1, 0) +\n",
       " If(paths_0_1 == 2, 1, 0) +\n",
       " If(paths_0_2 == 2, 1, 0) +\n",
       " If(paths_0_3 == 2, 1, 0) +\n",
       " If(paths_0_4 == 2, 1, 0) +\n",
       " If(paths_1_0 == 2, 1, 0) +\n",
       " If(paths_1_1 == 2, 1, 0) +\n",
       " If(paths_1_2 == 2, 1, 0) +\n",
       " If(paths_1_3 == 2, 1, 0) +\n",
       " If(paths_1_4 == 2, 1, 0) +\n",
       " If(paths_2_0 == 2, 1, 0) +\n",
       " If(paths_2_1 == 2, 1, 0) +\n",
       " If(paths_2_2 == 2, 1, 0) +\n",
       " If(paths_2_3 == 2, 1, 0) +\n",
       " If(paths_2_4 == 2, 1, 0) ==\n",
       " 1,\n",
       " If(paths_0_0 == 3, 1, 0) +\n",
       " If(paths_0_1 == 3, 1, 0) +\n",
       " If(paths_0_2 == 3, 1, 0) +\n",
       " If(paths_0_3 == 3, 1, 0) +\n",
       " If(paths_0_4 == 3, 1, 0) +\n",
       " If(paths_1_0 == 3, 1, 0) +\n",
       " If(paths_1_1 == 3, 1, 0) +\n",
       " If(paths_1_2 == 3, 1, 0) +\n",
       " If(paths_1_3 == 3, 1, 0) +\n",
       " If(paths_1_4 == 3, 1, 0) +\n",
       " If(paths_2_0 == 3, 1, 0) +\n",
       " If(paths_2_1 == 3, 1, 0) +\n",
       " If(paths_2_2 == 3, 1, 0) +\n",
       " If(paths_2_3 == 3, 1, 0) +\n",
       " If(paths_2_4 == 3, 1, 0) ==\n",
       " 1,\n",
       " If(paths_0_0 == 4, 1, 0) +\n",
       " If(paths_0_1 == 4, 1, 0) +\n",
       " If(paths_0_2 == 4, 1, 0) +\n",
       " If(paths_0_3 == 4, 1, 0) +\n",
       " If(paths_0_4 == 4, 1, 0) +\n",
       " If(paths_1_0 == 4, 1, 0) +\n",
       " If(paths_1_1 == 4, 1, 0) +\n",
       " If(paths_1_2 == 4, 1, 0) +\n",
       " If(paths_1_3 == 4, 1, 0) +\n",
       " If(paths_1_4 == 4, 1, 0) +\n",
       " If(paths_2_0 == 4, 1, 0) +\n",
       " If(paths_2_1 == 4, 1, 0) +\n",
       " If(paths_2_2 == 4, 1, 0) +\n",
       " If(paths_2_3 == 4, 1, 0) +\n",
       " If(paths_2_4 == 4, 1, 0) ==\n",
       " 1,\n",
       " If(paths_0_0 == 5, 1, 0) +\n",
       " If(paths_0_1 == 5, 1, 0) +\n",
       " If(paths_0_2 == 5, 1, 0) +\n",
       " If(paths_0_3 == 5, 1, 0) +\n",
       " If(paths_0_4 == 5, 1, 0) +\n",
       " If(paths_1_0 == 5, 1, 0) +\n",
       " If(paths_1_1 == 5, 1, 0) +\n",
       " If(paths_1_2 == 5, 1, 0) +\n",
       " If(paths_1_3 == 5, 1, 0) +\n",
       " If(paths_1_4 == 5, 1, 0) +\n",
       " If(paths_2_0 == 5, 1, 0) +\n",
       " If(paths_2_1 == 5, 1, 0) +\n",
       " If(paths_2_2 == 5, 1, 0) +\n",
       " If(paths_2_3 == 5, 1, 0) +\n",
       " If(paths_2_4 == 5, 1, 0) ==\n",
       " 1,\n",
       " If(paths_0_0 == 6, 1, 0) +\n",
       " If(paths_0_1 == 6, 1, 0) +\n",
       " If(paths_0_2 == 6, 1, 0) +\n",
       " If(paths_0_3 == 6, 1, 0) +\n",
       " If(paths_0_4 == 6, 1, 0) +\n",
       " If(paths_1_0 == 6, 1, 0) +\n",
       " If(paths_1_1 == 6, 1, 0) +\n",
       " If(paths_1_2 == 6, 1, 0) +\n",
       " If(paths_1_3 == 6, 1, 0) +\n",
       " If(paths_1_4 == 6, 1, 0) +\n",
       " If(paths_2_0 == 6, 1, 0) +\n",
       " If(paths_2_1 == 6, 1, 0) +\n",
       " If(paths_2_2 == 6, 1, 0) +\n",
       " If(paths_2_3 == 6, 1, 0) +\n",
       " If(paths_2_4 == 6, 1, 0) ==\n",
       " 1,\n",
       " Or(paths_0_0 != 7,\n",
       "    paths_0_1 != 7,\n",
       "    paths_0_2 != 7,\n",
       "    paths_0_3 != 7,\n",
       "    paths_0_4 != 7),\n",
       " Or(paths_1_0 != 7,\n",
       "    paths_1_1 != 7,\n",
       "    paths_1_2 != 7,\n",
       "    paths_1_3 != 7,\n",
       "    paths_1_4 != 7),\n",
       " Or(paths_2_0 != 7,\n",
       "    paths_2_1 != 7,\n",
       "    paths_2_2 != 7,\n",
       "    paths_2_3 != 7,\n",
       "    paths_2_4 != 7),\n",
       " If(paths_0_0 == 0, 3, 0) +\n",
       " If(paths_0_1 == 0, 3, 0) +\n",
       " If(paths_0_2 == 0, 3, 0) +\n",
       " If(paths_0_3 == 0, 3, 0) +\n",
       " If(paths_0_4 == 0, 3, 0) <=\n",
       " 15,\n",
       " If(paths_1_0 == 0, 3, 0) +\n",
       " If(paths_1_1 == 0, 3, 0) +\n",
       " If(paths_1_2 == 0, 3, 0) +\n",
       " If(paths_1_3 == 0, 3, 0) +\n",
       " If(paths_1_4 == 0, 3, 0) <=\n",
       " 10,\n",
       " If(paths_2_0 == 0, 3, 0) +\n",
       " If(paths_2_1 == 0, 3, 0) +\n",
       " If(paths_2_2 == 0, 3, 0) +\n",
       " If(paths_2_3 == 0, 3, 0) +\n",
       " If(paths_2_4 == 0, 3, 0) <=\n",
       " 7,\n",
       " If(paths_0_0 == 1, 2, 0) +\n",
       " If(paths_0_1 == 1, 2, 0) +\n",
       " If(paths_0_2 == 1, 2, 0) +\n",
       " If(paths_0_3 == 1, 2, 0) +\n",
       " If(paths_0_4 == 1, 2, 0) <=\n",
       " 15,\n",
       " If(paths_1_0 == 1, 2, 0) +\n",
       " If(paths_1_1 == 1, 2, 0) +\n",
       " If(paths_1_2 == 1, 2, 0) +\n",
       " If(paths_1_3 == 1, 2, 0) +\n",
       " If(paths_1_4 == 1, 2, 0) <=\n",
       " 10,\n",
       " If(paths_2_0 == 1, 2, 0) +\n",
       " If(paths_2_1 == 1, 2, 0) +\n",
       " If(paths_2_2 == 1, 2, 0) +\n",
       " If(paths_2_3 == 1, 2, 0) +\n",
       " If(paths_2_4 == 1, 2, 0) <=\n",
       " 7,\n",
       " If(paths_0_0 == 2, 6, 0) +\n",
       " If(paths_0_1 == 2, 6, 0) +\n",
       " If(paths_0_2 == 2, 6, 0) +\n",
       " If(paths_0_3 == 2, 6, 0) +\n",
       " If(paths_0_4 == 2, 6, 0) <=\n",
       " 15,\n",
       " If(paths_1_0 == 2, 6, 0) +\n",
       " If(paths_1_1 == 2, 6, 0) +\n",
       " If(paths_1_2 == 2, 6, 0) +\n",
       " If(paths_1_3 == 2, 6, 0) +\n",
       " If(paths_1_4 == 2, 6, 0) <=\n",
       " 10,\n",
       " If(paths_2_0 == 2, 6, 0) +\n",
       " If(paths_2_1 == 2, 6, 0) +\n",
       " If(paths_2_2 == 2, 6, 0) +\n",
       " If(paths_2_3 == 2, 6, 0) +\n",
       " If(paths_2_4 == 2, 6, 0) <=\n",
       " 7,\n",
       " If(paths_0_0 == 3, 8, 0) +\n",
       " If(paths_0_1 == 3, 8, 0) +\n",
       " If(paths_0_2 == 3, 8, 0) +\n",
       " If(paths_0_3 == 3, 8, 0) +\n",
       " If(paths_0_4 == 3, 8, 0) <=\n",
       " 15,\n",
       " If(paths_1_0 == 3, 8, 0) +\n",
       " If(paths_1_1 == 3, 8, 0) +\n",
       " If(paths_1_2 == 3, 8, 0) +\n",
       " If(paths_1_3 == 3, 8, 0) +\n",
       " If(paths_1_4 == 3, 8, 0) <=\n",
       " 10,\n",
       " If(paths_2_0 == 3, 8, 0) +\n",
       " If(paths_2_1 == 3, 8, 0) +\n",
       " If(paths_2_2 == 3, 8, 0) +\n",
       " If(paths_2_3 == 3, 8, 0) +\n",
       " If(paths_2_4 == 3, 8, 0) <=\n",
       " 7,\n",
       " If(paths_0_0 == 4, 5, 0) +\n",
       " If(paths_0_1 == 4, 5, 0) +\n",
       " If(paths_0_2 == 4, 5, 0) +\n",
       " If(paths_0_3 == 4, 5, 0) +\n",
       " If(paths_0_4 == 4, 5, 0) <=\n",
       " 15,\n",
       " If(paths_1_0 == 4, 5, 0) +\n",
       " If(paths_1_1 == 4, 5, 0) +\n",
       " If(paths_1_2 == 4, 5, 0) +\n",
       " If(paths_1_3 == 4, 5, 0) +\n",
       " If(paths_1_4 == 4, 5, 0) <=\n",
       " 10,\n",
       " If(paths_2_0 == 4, 5, 0) +\n",
       " If(paths_2_1 == 4, 5, 0) +\n",
       " If(paths_2_2 == 4, 5, 0) +\n",
       " If(paths_2_3 == 4, 5, 0) +\n",
       " If(paths_2_4 == 4, 5, 0) <=\n",
       " 7,\n",
       " If(paths_0_0 == 5, 4, 0) +\n",
       " If(paths_0_1 == 5, 4, 0) +\n",
       " If(paths_0_2 == 5, 4, 0) +\n",
       " If(paths_0_3 == 5, 4, 0) +\n",
       " If(paths_0_4 == 5, 4, 0) <=\n",
       " 15,\n",
       " If(paths_1_0 == 5, 4, 0) +\n",
       " If(paths_1_1 == 5, 4, 0) +\n",
       " If(paths_1_2 == 5, 4, 0) +\n",
       " If(paths_1_3 == 5, 4, 0) +\n",
       " If(paths_1_4 == 5, 4, 0) <=\n",
       " 10,\n",
       " If(paths_2_0 == 5, 4, 0) +\n",
       " If(paths_2_1 == 5, 4, 0) +\n",
       " If(paths_2_2 == 5, 4, 0) +\n",
       " If(paths_2_3 == 5, 4, 0) +\n",
       " If(paths_2_4 == 5, 4, 0) <=\n",
       " 7,\n",
       " If(paths_0_0 == 6, 4, 0) +\n",
       " If(paths_0_1 == 6, 4, 0) +\n",
       " If(paths_0_2 == 6, 4, 0) +\n",
       " If(paths_0_3 == 6, 4, 0) +\n",
       " If(paths_0_4 == 6, 4, 0) <=\n",
       " 15,\n",
       " If(paths_1_0 == 6, 4, 0) +\n",
       " If(paths_1_1 == 6, 4, 0) +\n",
       " If(paths_1_2 == 6, 4, 0) +\n",
       " If(paths_1_3 == 6, 4, 0) +\n",
       " If(paths_1_4 == 6, 4, 0) <=\n",
       " 10,\n",
       " If(paths_2_0 == 6, 4, 0) +\n",
       " If(paths_2_1 == 6, 4, 0) +\n",
       " If(paths_2_2 == 6, 4, 0) +\n",
       " If(paths_2_3 == 6, 4, 0) +\n",
       " If(paths_2_4 == 6, 4, 0) <=\n",
       " 7]"
      ]
     },
     "execution_count": 35,
     "metadata": {},
     "output_type": "execute_result"
    }
   ],
   "source": [
    "constraints"
   ]
  },
  {
   "attachments": {},
   "cell_type": "markdown",
   "metadata": {},
   "source": [
    "Solving the model:"
   ]
  },
  {
   "cell_type": "code",
   "execution_count": 36,
   "metadata": {},
   "outputs": [
    {
     "name": "stdout",
     "output_type": "stream",
     "text": [
      "[[3, 1, 7, 7, 8], [8, 7, 5, 6, 2], [0, 7, 7, 7, 4]]\n",
      "Courier 1 : [3, 1, 8]\n",
      "Courier 2 : [8, 5, 6, 2]\n",
      "Courier 3 : [0, 4]\n"
     ]
    }
   ],
   "source": [
    "# add all the constraints to the solver\n",
    "s = Solver()\n",
    "s.add(constraints)\n",
    "# solve\n",
    "if s.check() == sat:\n",
    "    m = s.model()\n",
    "    # print the model in a readable format\n",
    "    paths_values = []\n",
    "    for i in range(len(paths)):\n",
    "        paths_values.append([m.evaluate(paths[i][j]) for j in range(len(paths[i]))])\n",
    "    # convert paths_values to a list of lists of integers\n",
    "    print(paths_values)\n",
    "    paths_values = [[int(str(paths_values[i][j])) for j in range(len(paths_values[i]))] for i in range(len(paths_values))]\n",
    "    # remove from paths_values elements that are equal to n\n",
    "    paths_values = [[paths_values[i][j] for j in range(len(paths_values[i])) if paths_values[i][j] != n] for i in range(len(paths_values))]\n",
    "    for c in COURIERS:\n",
    "        print(\"Courier\", c+1, \":\", end=\" \")\n",
    "        print(paths_values[c])\n",
    "\n",
    "else:\n",
    "    print(\"unsat\")"
   ]
  },
  {
   "cell_type": "code",
   "execution_count": null,
   "metadata": {},
   "outputs": [],
   "source": []
  }
 ],
 "metadata": {
  "kernelspec": {
   "display_name": "va",
   "language": "python",
   "name": "python3"
  },
  "language_info": {
   "codemirror_mode": {
    "name": "ipython",
    "version": 3
   },
   "file_extension": ".py",
   "mimetype": "text/x-python",
   "name": "python",
   "nbconvert_exporter": "python",
   "pygments_lexer": "ipython3",
   "version": "3.10.4"
  },
  "orig_nbformat": 4
 },
 "nbformat": 4,
 "nbformat_minor": 2
}
