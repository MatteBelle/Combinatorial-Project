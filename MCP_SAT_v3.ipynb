{
 "cells": [
  {
   "attachments": {},
   "cell_type": "markdown",
   "metadata": {},
   "source": [
    "SAT version for the MCP problem given in the Combinatorial Decision Making and Optimization course.\n",
    "\n",
    "The model is based on the one already developed for the CP version of the problem with the necessary modifications to make it work for the SAT version."
   ]
  },
  {
   "attachments": {},
   "cell_type": "markdown",
   "metadata": {},
   "source": [
    "Necessary libraries:"
   ]
  },
  {
   "cell_type": "code",
   "execution_count": 40,
   "metadata": {},
   "outputs": [],
   "source": [
    "#!pip3 install z3-solver"
   ]
  },
  {
   "attachments": {},
   "cell_type": "markdown",
   "metadata": {},
   "source": [
    "Necessary imports:"
   ]
  },
  {
   "cell_type": "code",
   "execution_count": 41,
   "metadata": {},
   "outputs": [],
   "source": [
    "from z3 import * # The Z3 Theorem Prover\n",
    "import numpy as np # Numpy for matrix operations\n",
    "import matplotlib.pyplot as plt # Matplotlib for plotting"
   ]
  },
  {
   "attachments": {},
   "cell_type": "markdown",
   "metadata": {},
   "source": [
    "The variable instances (like number of couriers) are defined in a .dat file. The file is read and the variables are defined."
   ]
  },
  {
   "cell_type": "code",
   "execution_count": 42,
   "metadata": {},
   "outputs": [
    {
     "name": "stdout",
     "output_type": "stream",
     "text": [
      "couriers: 20\n",
      "items: 215\n",
      "load_size: [200, 180, 160, 185, 180, 180, 200, 160, 180, 185, 200, 160, 175, 180, 160, 200, 180, 175, 160, 200]\n",
      "item_size: [3, 16, 8, 15, 12, 13, 8, 24, 14, 17, 8, 11, 8, 17, 19, 13, 2, 8, 21, 13, 17, 4, 22, 24, 11, 6, 19, 11, 23, 4, 5, 16, 2, 13, 11, 9, 18, 7, 24, 5, 2, 5, 5, 3, 13, 2, 10, 12, 24, 21, 18, 5, 15, 11, 7, 3, 17, 14, 14, 7, 12, 5, 11, 17, 3, 7, 13, 20, 13, 4, 3, 24, 23, 21, 23, 10, 21, 24, 9, 22, 3, 6, 11, 10, 15, 9, 20, 19, 19, 19, 20, 1, 15, 18, 2, 25, 20, 18, 8, 3, 2, 15, 21, 6, 24, 19, 23, 16, 16, 9, 1, 10, 14, 11, 4, 23, 23, 22, 11, 14, 12, 13, 11, 9, 6, 25, 21, 13, 23, 8, 7, 8, 9, 2, 24, 7, 23, 21, 12, 23, 18, 5, 15, 11, 8, 2, 6, 23, 9, 1, 12, 17, 2, 5, 1, 20, 19, 13, 10, 9, 14, 4, 20, 17, 19, 19, 16, 4, 1, 21, 9, 2, 24, 1, 21, 13, 15, 4, 10, 19, 1, 25, 3, 21, 7, 18, 3, 1, 2, 8, 10, 19, 17, 19, 24, 24, 6, 2, 7, 10, 13, 20, 1, 17, 17, 16, 9, 25, 1, 23, 10, 15, 25, 25, 16]\n",
      "distance:\n",
      " [[  0  81  75 ...  40 158 103]\n",
      " [ 81   0  19 ...  59  82  83]\n",
      " [ 75  19   0 ...  40  87  65]\n",
      " ...\n",
      " [ 40  59  40 ...   0 118  63]\n",
      " [158  82  87 ... 118   0  56]\n",
      " [103  83  65 ...  63  56   0]]\n"
     ]
    }
   ],
   "source": [
    "# open the file in Instances folder\n",
    "f = open(\"Instances/inst14.dat\", \"r\")\n",
    "# the first line is the number of couriers\n",
    "m = int(f.readline())\n",
    "# the second line is the number of items\n",
    "n = int(f.readline())\n",
    "# the third line is the load size of each courier\n",
    "load_size = [int(x) for x in f.readline().split()]\n",
    "# the fourth line is the size of each item\n",
    "item_size = [int(x) for x in f.readline().split()]\n",
    "# the rest is the distance matrix\n",
    "distance = []\n",
    "for i in range(n+1):\n",
    "    distance.append([int(x) for x in f.readline().split()])\n",
    "# close the file\n",
    "f.close()\n",
    "print(\"couriers:\", m)\n",
    "print(\"items:\", n)\n",
    "print(\"load_size:\", load_size)\n",
    "print(\"item_size:\", item_size)\n",
    "# output the distance matrix as a numpy array\n",
    "distance = np.array(distance)\n",
    "print(\"distance:\\n\", distance)"
   ]
  },
  {
   "attachments": {},
   "cell_type": "markdown",
   "metadata": {},
   "source": [
    "Other variables:"
   ]
  },
  {
   "cell_type": "code",
   "execution_count": 43,
   "metadata": {},
   "outputs": [],
   "source": [
    "COURIERS = np.arange(m)\n",
    "ITEMS = np.arange(n)\n",
    "items_total = sum(item_size)\n",
    "courier_per_item = [Int(\"c_%s\" % (i)) for i in ITEMS]"
   ]
  },
  {
   "cell_type": "code",
   "execution_count": 44,
   "metadata": {},
   "outputs": [],
   "source": [
    "#courier_per_item"
   ]
  },
  {
   "attachments": {},
   "cell_type": "markdown",
   "metadata": {},
   "source": [
    "Formulation of the constraints:"
   ]
  },
  {
   "cell_type": "code",
   "execution_count": 45,
   "metadata": {},
   "outputs": [
    {
     "name": "stdout",
     "output_type": "stream",
     "text": [
      "472\n"
     ]
    }
   ],
   "source": [
    "constraints = []\n",
    "# the constraint are the same as the CP model version 2\n",
    "# number of items > number of couriers\n",
    "constraints.append(n > m)\n",
    "\n",
    "# Sum of item sizes cannot be bigger than total load size\n",
    "constraints.append(items_total <= Sum([load_size[i] for i in COURIERS]))\n",
    "\n",
    "# each item should have size > 0\n",
    "for i in ITEMS:\n",
    "    constraints.append(item_size[i] > 0)\n",
    "\n",
    "# each courier should have load size > 0\n",
    "for c in COURIERS:\n",
    "    constraints.append(load_size[c] > 0)\n",
    "\n",
    "# the couriers assigned should be between 0 and m-1\n",
    "for i in ITEMS:\n",
    "    constraints.append(And(courier_per_item[i] >= 0, courier_per_item[i] <= m-1))\n",
    "\n",
    "# # Each courier delivers at least one item\n",
    "# for c in COURIERS:\n",
    "#     constraints.append(Sum([If(courier_per_item[i] == c, 1, 0) for i in ITEMS]) >= 1)\n",
    "# ---------> this constraint is not necessary because of the next constraint <---------\n",
    "\n",
    "# Each courier's items sizes must not exceed his load size and it should be > 0 as the courier can't be empty\n",
    "load_per_courier = [Sum([If(courier_per_item[i] == c, item_size[i], 0) for i in ITEMS]) for c in COURIERS]\n",
    "for c in COURIERS:\n",
    "    constraints.append(And(load_per_courier[c] <= load_size[c], load_per_courier[c] > 0))\n",
    "    \n",
    "constraints\n",
    "# print number of constraints\n",
    "print(len(constraints))"
   ]
  },
  {
   "cell_type": "code",
   "execution_count": 46,
   "metadata": {},
   "outputs": [],
   "source": [
    "#constraints"
   ]
  },
  {
   "attachments": {},
   "cell_type": "markdown",
   "metadata": {},
   "source": [
    "Solving the model:"
   ]
  },
  {
   "cell_type": "code",
   "execution_count": 47,
   "metadata": {},
   "outputs": [
    {
     "name": "stdout",
     "output_type": "stream",
     "text": [
      "     ---> sat <---\n",
      "c_i = courier of item i\n",
      "Courier 0 : [22, 59, 65, 66, 100, 110, 115, 127, 154, 155, 161, 163, 173, 176, 178, 193, 194]\n",
      "Courier 1 : [7, 13, 27, 43, 64, 77, 83, 90, 114, 116, 124, 148, 180, 181]\n",
      "Courier 2 : [21, 40, 63, 76, 85, 87, 96, 98, 99, 123, 145, 152, 187, 203, 207, 208]\n",
      "Courier 3 : [1, 10, 15, 29, 39, 47, 53, 55, 57, 70, 71, 92, 94, 135, 150, 167, 172, 177, 188]\n",
      "Courier 4 : [19, 28, 62, 67, 79, 84, 128, 132, 134, 157, 198]\n",
      "Courier 5 : [5, 45, 48, 49, 56, 86, 142, 151, 168, 212, 213]\n",
      "Courier 6 : [24, 26, 34, 58, 73, 97, 140, 141, 159, 175, 185, 195, 206, 210]\n",
      "Courier 7 : [18, 102, 107, 108, 139, 171, 199, 201, 211, 214]\n",
      "Courier 8 : [3, 17, 36, 89, 122, 137, 138, 164, 174, 179, 192]\n",
      "Courier 9 : [4, 12, 42, 50, 75, 81, 95, 103, 118, 121, 133, 147, 160, 191, 200]\n",
      "Courier 10 : [6, 11, 32, 35, 37, 68, 78, 91, 93, 104, 105, 131, 136, 146, 166, 184, 186, 190, 196]\n",
      "Courier 11 : [2, 33, 41, 54, 74, 111, 113, 125, 126, 143, 149, 153, 158, 189]\n",
      "Courier 12 : [8, 80, 169, 183, 197, 204]\n",
      "Courier 13 : [20, 23, 30, 38, 51, 61, 144, 156, 165, 205]\n",
      "Courier 14 : [16, 31, 129, 130, 202]\n",
      "Courier 15 : [60, 182]\n",
      "Courier 16 : [25, 88]\n",
      "Courier 17 : [0, 9, 44, 46, 72, 82, 101, 106, 119, 162, 209]\n",
      "Courier 18 : [14, 69, 117, 120]\n",
      "Courier 19 : [52, 109, 112, 170]\n"
     ]
    }
   ],
   "source": [
    "# add all the constraints to the solver\n",
    "s = Solver()\n",
    "s.add(constraints)\n",
    "#print(\"distance:\\n\", distance, \"\\n\")\n",
    "# solve\n",
    "if s.check() == sat:\n",
    "    print(\"     ---> sat <---\")\n",
    "    m = s.model()\n",
    "    # print the model in a readable format\n",
    "    print(\"c_i = courier of item i\")\n",
    "    # make a list of the couriers assigned to each item\n",
    "    for c in COURIERS:\n",
    "        print(\"Courier\", c, \":\", [i for i in ITEMS if m[courier_per_item[i]] == c])\n",
    "    # commented below: calculate distance for each courier\n",
    "    # for c in COURIERS:\n",
    "    #     # list of items assigned to courier c\n",
    "    #     items = [i for i in ITEMS if m[courier_per_item[i]] == c]\n",
    "    #     distance_c = 0\n",
    "    #     distance_c += distance[items[0]][n]\n",
    "    #     for i in range(len(items)-1):\n",
    "    #         distance_c += distance[items[i]][items[i+1]]\n",
    "    #     distance_c += distance[items[-1]][n]\n",
    "    #     print(\"Courier\", c, \"distance:\", distance_c)\n",
    "        \n",
    "else:\n",
    "    print(\"---> unsat <---\")"
   ]
  },
  {
   "cell_type": "code",
   "execution_count": 48,
   "metadata": {},
   "outputs": [],
   "source": [
    "# # add all the constraints to the solver\n",
    "# s = Solver()\n",
    "# s.add(constraints)\n",
    "# # solve\n",
    "# if s.check() == sat:\n",
    "#     m = s.model()"
   ]
  }
 ],
 "metadata": {
  "kernelspec": {
   "display_name": "va",
   "language": "python",
   "name": "python3"
  },
  "language_info": {
   "codemirror_mode": {
    "name": "ipython",
    "version": 3
   },
   "file_extension": ".py",
   "mimetype": "text/x-python",
   "name": "python",
   "nbconvert_exporter": "python",
   "pygments_lexer": "ipython3",
   "version": "3.10.4"
  },
  "orig_nbformat": 4
 },
 "nbformat": 4,
 "nbformat_minor": 2
}
