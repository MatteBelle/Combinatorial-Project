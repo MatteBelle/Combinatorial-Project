{
 "cells": [
  {
   "cell_type": "code",
   "execution_count": 2,
   "metadata": {},
   "outputs": [],
   "source": [
    "from z3 import * # The Z3 Theorem Prover\n",
    "import numpy as np # Numpy for matrix operations\n",
    "import matplotlib.pyplot as plt # Matplotlib for plotting"
   ]
  },
  {
   "cell_type": "code",
   "execution_count": 3,
   "metadata": {},
   "outputs": [
    {
     "name": "stdout",
     "output_type": "stream",
     "text": [
      "couriers: 2\n",
      "items: 3\n",
      "load_size: [18, 30]\n",
      "item_size: [20, 17, 6]\n",
      "distance:\n",
      " [[ 0 21 86 99]\n",
      " [21  0 71 80]\n",
      " [92 71  0 61]\n",
      " [59 80 61  0]]\n"
     ]
    }
   ],
   "source": [
    "# open the file in Instances folder\n",
    "f = open(\"inst05.dat\", \"r\")\n",
    "# the first line is the number of couriers\n",
    "m = int(f.readline())\n",
    "# the second line is the number of items\n",
    "n = int(f.readline())\n",
    "# the third line is the load size of each courier\n",
    "load_size = [int(x) for x in f.readline().split()]\n",
    "# the fourth line is the size of each item\n",
    "item_size = [int(x) for x in f.readline().split()]\n",
    "# the rest is the distance matrix\n",
    "distance = []\n",
    "for i in range(n+1):\n",
    "    distance.append([int(x) for x in f.readline().split()])\n",
    "# close the file\n",
    "f.close()\n",
    "print(\"couriers:\", m)\n",
    "print(\"items:\", n)\n",
    "print(\"load_size:\", load_size)\n",
    "print(\"item_size:\", item_size)\n",
    "# output the distance matrix as a numpy array\n",
    "distance = np.array(distance)\n",
    "print(\"distance:\\n\", distance)"
   ]
  },
  {
   "cell_type": "code",
   "execution_count": 4,
   "metadata": {},
   "outputs": [
    {
     "name": "stdout",
     "output_type": "stream",
     "text": [
      "graph_nodes:\n",
      " [[[x_0_0_0, x_0_0_1], [x_0_1_0, x_0_1_1], [x_0_2_0, x_0_2_1], [x_0_3_0, x_0_3_1]], [[x_1_0_0, x_1_0_1], [x_1_1_0, x_1_1_1], [x_1_2_0, x_1_2_1], [x_1_3_0, x_1_3_1]], [[x_2_0_0, x_2_0_1], [x_2_1_0, x_2_1_1], [x_2_2_0, x_2_2_1], [x_2_3_0, x_2_3_1]], [[x_3_0_0, x_3_0_1], [x_3_1_0, x_3_1_1], [x_3_2_0, x_3_2_1], [x_3_3_0, x_3_3_1]]]\n"
     ]
    }
   ],
   "source": [
    "# implement the graph based approach as an adjacency matrix m x n x n\n",
    "graph_nodes = [[[Bool(\"x_%s_%s_%s\" % (i, j, k)) for k in range(m)] for j in range(n + 1)] for i in range(n + 1)]\n",
    "print(\"graph_nodes:\\n\", graph_nodes)"
   ]
  },
  {
   "cell_type": "code",
   "execution_count": 28,
   "metadata": {},
   "outputs": [
    {
     "name": "stdout",
     "output_type": "stream",
     "text": [
      "best_max_distance: 206\n",
      "graph_node_per_courier: [[(1, 3), (3, 1)], [(0, 2), (2, 3), (3, 0)]]\n",
      "paths: [[1], [0, 2]]\n"
     ]
    }
   ],
   "source": [
    "constraints = []\n",
    "\n",
    "for i in range(n + 1):\n",
    "    # main diagonal equal to 0 (no self loops)\n",
    "    constraints.append(PbEq([(graph_nodes[i][i][k], 1) for k in range(m)], 0))\n",
    "\n",
    "# Each node visited only once\n",
    "for i in range(n):\n",
    "    constraints.append(And([PbEq([(graph_nodes[i][j][k],1) for k in range(m) for j in range(n+1)\n",
    "                            ],1),\n",
    "                            PbEq([(graph_nodes[j][i][k],1) for k in range(m) for j in range(n+1)\n",
    "                            ],1)]))\n",
    "    \n",
    "# Each courier can go to the origin at maximum once\n",
    "for k in range(m):\n",
    "    constraints.append(And([PbEq([(graph_nodes[n][j][k],1) for j in range(n)\n",
    "                    ],1),\n",
    "                    PbEq([(graph_nodes[j][n][k],1) for j in range(n)\n",
    "                    ],1)]))\n",
    "\n",
    "# the load of each courier cannot exceed its load size\n",
    "for k in range(m):\n",
    "    for i in range(n):\n",
    "        constraints.append(PbLe([(graph_nodes[i][j][k],item_size[i]) for i in range(n) for j in range(n+1)], load_size[k]))\n",
    "\n",
    "# n arcs in n arcs out\n",
    "for k in range(m):\n",
    "    for j in range(n+1):\n",
    "        constraints.append(Sum([If(graph_nodes[i][j][k], 1, 0) for i in range(n+1)]) == Sum([If(graph_nodes[j][i][k], 1, 0) for i in range(n+1)]))\n",
    "\n",
    "# DFJ subtour elimination: The number of arcs between nodes in the subset should be less than the number of nodes in that subset.\n",
    "for k in range(m):\n",
    "    for i in range(n):\n",
    "        for j in range(n):\n",
    "            constraints.append(Implies(And(graph_nodes[i][j][k], graph_nodes[j][i][k]), PbLe([(graph_nodes[i][j][k],1) for i in range(n) for j in range(n+1)], n)))\n",
    "\n",
    "\n",
    "# total distance\n",
    "# total_distance = Int(\"total_distance\")\n",
    "# have to sum over all k but also need to add the distance from the depot to the first item and from the last item to the depot\n",
    "# constraints.append(total_distance == Sum([If(graph_nodes[i][j][k], distance[i][j].item(), 0) for i in range(n + 1) for j in range(n + 1) for k in range(m)]))\n",
    "max_distance_per_courier = [Int(\"max_distance_per_courier_%s\" % k) for k in range(m)]\n",
    "for k in range(m):\n",
    "    constraints.append(max_distance_per_courier[k] == Sum([If(graph_nodes[i][j][k], distance[i][j].item(), 0) for i in range(n + 1) for j in range(n + 1)]))\n",
    "\n",
    "best_max_distance = math.inf\n",
    "graph_node_per_courier = [[] for k in range(m)]\n",
    "s = Solver()\n",
    "s.add(constraints)\n",
    "for l in range(1000):\n",
    "    if s.check()==sat:\n",
    "        model = s.model()\n",
    "        max_distance = max([model[max_distance_per_courier[k]].as_long() for k in range(m)])\n",
    "        if max_distance < best_max_distance:\n",
    "            best_max_distance = max_distance\n",
    "            graph_node_per_courier = [[] for k in range(m)]\n",
    "            for k in range(m):\n",
    "                s.add(max_distance_per_courier[k] < max_distance)\n",
    "                for i in range(n + 1):\n",
    "                    for j in range(n + 1):\n",
    "                        if model[graph_nodes[i][j][k]] == True:\n",
    "                            graph_node_per_courier[k].append((i,j))\n",
    "         # print(\"unsat\")\n",
    "print(\"best_max_distance:\", best_max_distance)\n",
    "print(\"graph_node_per_courier:\", graph_node_per_courier)\n",
    "\n",
    "# order the path of each courier of the variable graph_node_per_courier\n",
    "paths = [[] for k in range(m)]\n",
    "for k in range(m):\n",
    "    paths[k].append(n)\n",
    "    count = len(graph_node_per_courier[k])-1\n",
    "    for i in range(count):\n",
    "        for elem in graph_node_per_courier[k]:\n",
    "            if elem[0] == paths[k][-1]:\n",
    "                paths[k].append(elem[1])\n",
    "                break\n",
    "    paths[k].append(n)\n",
    "# remove from paths first and last element\n",
    "for k in range(m):\n",
    "    paths[k].pop(0)\n",
    "    paths[k].pop(-1)\n",
    "print(\"paths:\", paths)\n",
    "#s.minimize(total_distance)\n",
    "#if s.check() == sat:\n",
    " #   model = s.model()\n",
    "\n",
    " #   print(\"total_distance:\", model[total_distance])\n",
    " #   print(\"graph_nodes:\")\n",
    " #   # print the human readable solution\n",
    " #   for k in range(m):\n",
    " #       print(\"courier\", k)\n",
    " #       for i in range(n + 1):\n",
    " #           for j in range(n + 1):\n",
    " #               if model[graph_nodes[i][j][k]] == True:\n",
    " #                   print(i, \"->\", j)\n",
    "    # plot the solution\n",
    "# else:\n",
    "  #  print(\"unsat\")\n"
   ]
  },
  {
   "cell_type": "code",
   "execution_count": null,
   "metadata": {},
   "outputs": [],
   "source": []
  }
 ],
 "metadata": {
  "kernelspec": {
   "display_name": "va",
   "language": "python",
   "name": "python3"
  },
  "language_info": {
   "codemirror_mode": {
    "name": "ipython",
    "version": 3
   },
   "file_extension": ".py",
   "mimetype": "text/x-python",
   "name": "python",
   "nbconvert_exporter": "python",
   "pygments_lexer": "ipython3",
   "version": "3.10.2"
  },
  "orig_nbformat": 4
 },
 "nbformat": 4,
 "nbformat_minor": 2
}
