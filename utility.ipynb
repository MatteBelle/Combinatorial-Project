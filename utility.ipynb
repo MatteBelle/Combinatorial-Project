{
 "cells": [
  {
   "cell_type": "code",
   "execution_count": 1,
   "metadata": {},
   "outputs": [
    {
     "name": "stdout",
     "output_type": "stream",
     "text": [
      "couriers: 2\n",
      "items: 3\n",
      "load_size: [18, 30]\n",
      "item_size: [20, 17, 6]\n",
      "distance:\n",
      " [[ 0 21 86 99]\n",
      " [21  0 71 80]\n",
      " [92 71  0 61]\n",
      " [59 80 61  0]]\n"
     ]
    }
   ],
   "source": [
    "# utility file used to generate mzn data files from the dat files\n",
    "import numpy as np\n",
    "# open the file in Instances folder\n",
    "f = open(\"inst05.dat\", \"r\")\n",
    "# the first line is the number of couriers\n",
    "m = int(f.readline())\n",
    "# the second line is the number of items\n",
    "n = int(f.readline())\n",
    "# the third line is the load size of each courier\n",
    "load_size = [int(x) for x in f.readline().split()]\n",
    "# the fourth line is the size of each item\n",
    "item_size = [int(x) for x in f.readline().split()]\n",
    "# the rest is the distance matrix\n",
    "distance = []\n",
    "for i in range(n+1):\n",
    "    distance.append([int(x) for x in f.readline().split()])\n",
    "# close the file\n",
    "f.close()\n",
    "print(\"couriers:\", m)\n",
    "print(\"items:\", n)\n",
    "print(\"load_size:\", load_size)\n",
    "print(\"item_size:\", item_size)\n",
    "# output the distance matrix as a numpy array\n",
    "distance = np.array(distance)\n",
    "print(\"distance:\\n\", distance)\n",
    "\n",
    "# create a txt file to store the output formated as required\n",
    "f = open(\"output.txt\", \"w\")\n",
    "f.write(\"m = \" + str(m) + \";\" + \"\\n\")\n",
    "f.write(\"n = \" + str(n) + \";\" + \"\\n\")\n",
    "f.write(\"load_sizes = \" + str(load_size) + \";\" + \"\\n\")\n",
    "f.write(\"sizes = \" + str(item_size) + \";\" + \"\\n\")\n",
    "f.write(\"distances = [|\")\n",
    "for i in range(n+1):\n",
    "    for j in range(n+1):\n",
    "        if j>0:\n",
    "            f.write(\", \")\n",
    "        f.write(str(distance[i][j]))\n",
    "    if i == n:\n",
    "        f.write(\"|];\")    \n",
    "    else:\n",
    "        f.write(\"\\n\" + \"|\")\n",
    "f.close()"
   ]
  },
  {
   "cell_type": "code",
   "execution_count": null,
   "metadata": {},
   "outputs": [],
   "source": []
  }
 ],
 "metadata": {
  "kernelspec": {
   "display_name": "va",
   "language": "python",
   "name": "python3"
  },
  "language_info": {
   "codemirror_mode": {
    "name": "ipython",
    "version": 3
   },
   "file_extension": ".py",
   "mimetype": "text/x-python",
   "name": "python",
   "nbconvert_exporter": "python",
   "pygments_lexer": "ipython3",
   "version": "3.10.2"
  },
  "orig_nbformat": 4
 },
 "nbformat": 4,
 "nbformat_minor": 2
}
