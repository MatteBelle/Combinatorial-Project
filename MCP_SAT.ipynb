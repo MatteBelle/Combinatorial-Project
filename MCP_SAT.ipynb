{
 "cells": [
  {
   "attachments": {},
   "cell_type": "markdown",
   "metadata": {},
   "source": [
    "SAT version for the MCP problem given in the Combinatorial Decision Making and Optimization course.\n",
    "\n",
    "The model is based on the one already developed for the CP version of the problem with the necessary modifications to make it work for the SAT version."
   ]
  },
  {
   "attachments": {},
   "cell_type": "markdown",
   "metadata": {},
   "source": [
    "Necessary libraries:"
   ]
  },
  {
   "cell_type": "code",
   "execution_count": 1,
   "metadata": {},
   "outputs": [
    {
     "name": "stdout",
     "output_type": "stream",
     "text": [
      "Requirement already satisfied: z3-solver in c:\\users\\utente\\anaconda3\\envs\\va\\lib\\site-packages (4.12.2.0)\n"
     ]
    }
   ],
   "source": [
    "!pip3 install z3-solver"
   ]
  },
  {
   "attachments": {},
   "cell_type": "markdown",
   "metadata": {},
   "source": [
    "Necessary imports:"
   ]
  },
  {
   "cell_type": "code",
   "execution_count": 5,
   "metadata": {},
   "outputs": [],
   "source": [
    "from z3 import * # The Z3 Theorem Prover\n",
    "import numpy as np # Numpy for matrix operations\n",
    "import matplotlib.pyplot as plt # Matplotlib for plotting"
   ]
  },
  {
   "attachments": {},
   "cell_type": "markdown",
   "metadata": {},
   "source": [
    "The variable instances (like number of couriers) are defined in a .dat file. The file is read and the variables are defined."
   ]
  },
  {
   "cell_type": "code",
   "execution_count": 82,
   "metadata": {},
   "outputs": [
    {
     "name": "stdout",
     "output_type": "stream",
     "text": [
      "couriers: 2\n",
      "items: 6\n",
      "load_size: [15, 10]\n",
      "item_size: [3, 2, 6, 5, 4, 4]\n",
      "distance:\n",
      " [[0 3 4 5 6 6 2]\n",
      " [3 0 1 4 5 7 3]\n",
      " [4 1 0 5 6 6 4]\n",
      " [4 4 5 0 3 3 2]\n",
      " [6 7 8 3 0 2 4]\n",
      " [6 7 8 3 2 0 4]\n",
      " [2 3 4 3 4 4 0]]\n"
     ]
    }
   ],
   "source": [
    "# open the file in Instances folder\n",
    "f = open(\"Instances/inst01.dat\", \"r\")\n",
    "# the first line is the number of couriers\n",
    "m = int(f.readline())\n",
    "# the second line is the number of items\n",
    "n = int(f.readline())\n",
    "# the third line is the load size of each courier\n",
    "load_size = [int(x) for x in f.readline().split()]\n",
    "# the fourth line is the size of each item\n",
    "item_size = [int(x) for x in f.readline().split()]\n",
    "# the rest is the distance matrix\n",
    "distance = []\n",
    "for i in range(n+1):\n",
    "    distance.append([int(x) for x in f.readline().split()])\n",
    "# close the file\n",
    "f.close()\n",
    "print(\"couriers:\", m)\n",
    "print(\"items:\", n)\n",
    "print(\"load_size:\", load_size)\n",
    "print(\"item_size:\", item_size)\n",
    "# output the distance matrix as a numpy array\n",
    "distance = np.array(distance)\n",
    "print(\"distance:\\n\", distance)"
   ]
  },
  {
   "attachments": {},
   "cell_type": "markdown",
   "metadata": {},
   "source": [
    "Other variables:"
   ]
  },
  {
   "cell_type": "code",
   "execution_count": 83,
   "metadata": {},
   "outputs": [
    {
     "data": {
      "text/plain": [
       "[[paths_0_0, paths_0_1, paths_0_2, paths_0_3, paths_0_4, paths_0_5, paths_0_6],\n",
       " [paths_1_0, paths_1_1, paths_1_2, paths_1_3, paths_1_4, paths_1_5, paths_1_6]]"
      ]
     },
     "execution_count": 83,
     "metadata": {},
     "output_type": "execute_result"
    }
   ],
   "source": [
    "max_path_length = n - (m - 1) + 2\n",
    "PATH = range(max_path_length)\n",
    "COURIERS = np.arange(m)\n",
    "ITEMS = np.arange(n)\n",
    "items_total = sum(item_size)\n",
    "row_empty = (n) * max_path_length\n",
    "ITEMS_PATH = np.arange(1, max_path_length-1)\n",
    "# path array \n",
    "paths = [[Int(f'paths_{c}_{p}') for p in PATH] for c in COURIERS]\n",
    "paths"
   ]
  },
  {
   "cell_type": "code",
   "execution_count": 84,
   "metadata": {},
   "outputs": [
    {
     "data": {
      "text/plain": [
       "array([1, 2, 3, 4, 5])"
      ]
     },
     "execution_count": 84,
     "metadata": {},
     "output_type": "execute_result"
    }
   ],
   "source": [
    "ITEMS_PATH"
   ]
  },
  {
   "attachments": {},
   "cell_type": "markdown",
   "metadata": {},
   "source": [
    "Formulation of the constraints:"
   ]
  },
  {
   "cell_type": "code",
   "execution_count": 85,
   "metadata": {},
   "outputs": [
    {
     "data": {
      "text/plain": [
       "[True,\n",
       " True,\n",
       " And(paths_0_1 >= 0, paths_0_1 <= 6),\n",
       " And(paths_0_2 >= 0, paths_0_2 <= 6),\n",
       " And(paths_0_3 >= 0, paths_0_3 <= 6),\n",
       " And(paths_0_4 >= 0, paths_0_4 <= 6),\n",
       " And(paths_0_5 >= 0, paths_0_5 <= 6),\n",
       " And(paths_1_1 >= 0, paths_1_1 <= 6),\n",
       " And(paths_1_2 >= 0, paths_1_2 <= 6),\n",
       " And(paths_1_3 >= 0, paths_1_3 <= 6),\n",
       " And(paths_1_4 >= 0, paths_1_4 <= 6),\n",
       " And(paths_1_5 >= 0, paths_1_5 <= 6),\n",
       " True,\n",
       " True,\n",
       " True,\n",
       " True,\n",
       " True,\n",
       " True,\n",
       " True,\n",
       " True,\n",
       " If(paths_0_1 == 0, 1, 0) +\n",
       " If(paths_0_2 == 0, 1, 0) +\n",
       " If(paths_0_3 == 0, 1, 0) +\n",
       " If(paths_0_4 == 0, 1, 0) +\n",
       " If(paths_0_5 == 0, 1, 0) +\n",
       " If(paths_1_1 == 0, 1, 0) +\n",
       " If(paths_1_2 == 0, 1, 0) +\n",
       " If(paths_1_3 == 0, 1, 0) +\n",
       " If(paths_1_4 == 0, 1, 0) +\n",
       " If(paths_1_5 == 0, 1, 0) ==\n",
       " 1,\n",
       " If(paths_0_1 == 1, 1, 0) +\n",
       " If(paths_0_2 == 1, 1, 0) +\n",
       " If(paths_0_3 == 1, 1, 0) +\n",
       " If(paths_0_4 == 1, 1, 0) +\n",
       " If(paths_0_5 == 1, 1, 0) +\n",
       " If(paths_1_1 == 1, 1, 0) +\n",
       " If(paths_1_2 == 1, 1, 0) +\n",
       " If(paths_1_3 == 1, 1, 0) +\n",
       " If(paths_1_4 == 1, 1, 0) +\n",
       " If(paths_1_5 == 1, 1, 0) ==\n",
       " 1,\n",
       " If(paths_0_1 == 2, 1, 0) +\n",
       " If(paths_0_2 == 2, 1, 0) +\n",
       " If(paths_0_3 == 2, 1, 0) +\n",
       " If(paths_0_4 == 2, 1, 0) +\n",
       " If(paths_0_5 == 2, 1, 0) +\n",
       " If(paths_1_1 == 2, 1, 0) +\n",
       " If(paths_1_2 == 2, 1, 0) +\n",
       " If(paths_1_3 == 2, 1, 0) +\n",
       " If(paths_1_4 == 2, 1, 0) +\n",
       " If(paths_1_5 == 2, 1, 0) ==\n",
       " 1,\n",
       " If(paths_0_1 == 3, 1, 0) +\n",
       " If(paths_0_2 == 3, 1, 0) +\n",
       " If(paths_0_3 == 3, 1, 0) +\n",
       " If(paths_0_4 == 3, 1, 0) +\n",
       " If(paths_0_5 == 3, 1, 0) +\n",
       " If(paths_1_1 == 3, 1, 0) +\n",
       " If(paths_1_2 == 3, 1, 0) +\n",
       " If(paths_1_3 == 3, 1, 0) +\n",
       " If(paths_1_4 == 3, 1, 0) +\n",
       " If(paths_1_5 == 3, 1, 0) ==\n",
       " 1,\n",
       " If(paths_0_1 == 4, 1, 0) +\n",
       " If(paths_0_2 == 4, 1, 0) +\n",
       " If(paths_0_3 == 4, 1, 0) +\n",
       " If(paths_0_4 == 4, 1, 0) +\n",
       " If(paths_0_5 == 4, 1, 0) +\n",
       " If(paths_1_1 == 4, 1, 0) +\n",
       " If(paths_1_2 == 4, 1, 0) +\n",
       " If(paths_1_3 == 4, 1, 0) +\n",
       " If(paths_1_4 == 4, 1, 0) +\n",
       " If(paths_1_5 == 4, 1, 0) ==\n",
       " 1,\n",
       " If(paths_0_1 == 5, 1, 0) +\n",
       " If(paths_0_2 == 5, 1, 0) +\n",
       " If(paths_0_3 == 5, 1, 0) +\n",
       " If(paths_0_4 == 5, 1, 0) +\n",
       " If(paths_0_5 == 5, 1, 0) +\n",
       " If(paths_1_1 == 5, 1, 0) +\n",
       " If(paths_1_2 == 5, 1, 0) +\n",
       " If(paths_1_3 == 5, 1, 0) +\n",
       " If(paths_1_4 == 5, 1, 0) +\n",
       " If(paths_1_5 == 5, 1, 0) ==\n",
       " 1,\n",
       " If(paths_0_1 != 6, 1, 0) +\n",
       " If(paths_0_2 != 6, 1, 0) +\n",
       " If(paths_0_3 != 6, 1, 0) +\n",
       " If(paths_0_4 != 6, 1, 0) +\n",
       " If(paths_0_5 != 6, 1, 0) >=\n",
       " 1,\n",
       " If(paths_1_1 != 6, 1, 0) +\n",
       " If(paths_1_2 != 6, 1, 0) +\n",
       " If(paths_1_3 != 6, 1, 0) +\n",
       " If(paths_1_4 != 6, 1, 0) +\n",
       " If(paths_1_5 != 6, 1, 0) >=\n",
       " 1,\n",
       " paths_0_0 == 6,\n",
       " paths_0_6 == 6,\n",
       " paths_1_0 == 6,\n",
       " paths_1_6 == 6,\n",
       " If(paths_0_1 == 0, 3, 0) +\n",
       " If(paths_0_2 == 0, 3, 0) +\n",
       " If(paths_0_3 == 0, 3, 0) +\n",
       " If(paths_0_4 == 0, 3, 0) +\n",
       " If(paths_0_5 == 0, 3, 0) <=\n",
       " 15,\n",
       " If(paths_1_1 == 0, 3, 0) +\n",
       " If(paths_1_2 == 0, 3, 0) +\n",
       " If(paths_1_3 == 0, 3, 0) +\n",
       " If(paths_1_4 == 0, 3, 0) +\n",
       " If(paths_1_5 == 0, 3, 0) <=\n",
       " 10,\n",
       " If(paths_0_1 == 1, 2, 0) +\n",
       " If(paths_0_2 == 1, 2, 0) +\n",
       " If(paths_0_3 == 1, 2, 0) +\n",
       " If(paths_0_4 == 1, 2, 0) +\n",
       " If(paths_0_5 == 1, 2, 0) <=\n",
       " 15,\n",
       " If(paths_1_1 == 1, 2, 0) +\n",
       " If(paths_1_2 == 1, 2, 0) +\n",
       " If(paths_1_3 == 1, 2, 0) +\n",
       " If(paths_1_4 == 1, 2, 0) +\n",
       " If(paths_1_5 == 1, 2, 0) <=\n",
       " 10,\n",
       " If(paths_0_1 == 2, 6, 0) +\n",
       " If(paths_0_2 == 2, 6, 0) +\n",
       " If(paths_0_3 == 2, 6, 0) +\n",
       " If(paths_0_4 == 2, 6, 0) +\n",
       " If(paths_0_5 == 2, 6, 0) <=\n",
       " 15,\n",
       " If(paths_1_1 == 2, 6, 0) +\n",
       " If(paths_1_2 == 2, 6, 0) +\n",
       " If(paths_1_3 == 2, 6, 0) +\n",
       " If(paths_1_4 == 2, 6, 0) +\n",
       " If(paths_1_5 == 2, 6, 0) <=\n",
       " 10,\n",
       " If(paths_0_1 == 3, 5, 0) +\n",
       " If(paths_0_2 == 3, 5, 0) +\n",
       " If(paths_0_3 == 3, 5, 0) +\n",
       " If(paths_0_4 == 3, 5, 0) +\n",
       " If(paths_0_5 == 3, 5, 0) <=\n",
       " 15,\n",
       " If(paths_1_1 == 3, 5, 0) +\n",
       " If(paths_1_2 == 3, 5, 0) +\n",
       " If(paths_1_3 == 3, 5, 0) +\n",
       " If(paths_1_4 == 3, 5, 0) +\n",
       " If(paths_1_5 == 3, 5, 0) <=\n",
       " 10,\n",
       " If(paths_0_1 == 4, 4, 0) +\n",
       " If(paths_0_2 == 4, 4, 0) +\n",
       " If(paths_0_3 == 4, 4, 0) +\n",
       " If(paths_0_4 == 4, 4, 0) +\n",
       " If(paths_0_5 == 4, 4, 0) <=\n",
       " 15,\n",
       " If(paths_1_1 == 4, 4, 0) +\n",
       " If(paths_1_2 == 4, 4, 0) +\n",
       " If(paths_1_3 == 4, 4, 0) +\n",
       " If(paths_1_4 == 4, 4, 0) +\n",
       " If(paths_1_5 == 4, 4, 0) <=\n",
       " 10,\n",
       " If(paths_0_1 == 5, 4, 0) +\n",
       " If(paths_0_2 == 5, 4, 0) +\n",
       " If(paths_0_3 == 5, 4, 0) +\n",
       " If(paths_0_4 == 5, 4, 0) +\n",
       " If(paths_0_5 == 5, 4, 0) <=\n",
       " 15,\n",
       " If(paths_1_1 == 5, 4, 0) +\n",
       " If(paths_1_2 == 5, 4, 0) +\n",
       " If(paths_1_3 == 5, 4, 0) +\n",
       " If(paths_1_4 == 5, 4, 0) +\n",
       " If(paths_1_5 == 5, 4, 0) <=\n",
       " 10]"
      ]
     },
     "execution_count": 85,
     "metadata": {},
     "output_type": "execute_result"
    }
   ],
   "source": [
    "constraints = []\n",
    "# the constraint are the same as the CP model version 2\n",
    "# number of items > number of couriers\n",
    "constraints.append(n > m)\n",
    "\n",
    "# Sum of item sizes cannot be bigger than total load size\n",
    "constraints.append(items_total <= Sum([load_size[i] for i in COURIERS]))\n",
    "\n",
    "# each value in the path is between 0 and n\n",
    "for c in COURIERS:\n",
    "    for p in ITEMS_PATH:\n",
    "        constraints.append(And(paths[c][p] >= 0, paths[c][p] <= n))\n",
    "\n",
    "# each item should have size > 0\n",
    "for i in ITEMS:\n",
    "    constraints.append(item_size[i] > 0)\n",
    "\n",
    "# each courier should have load size > 0\n",
    "for c in COURIERS:\n",
    "    constraints.append(load_size[c] > 0)\n",
    "\n",
    "# Each item is delivered at most by one courier, only n+1 value can be repeated as it's used as a filler element\n",
    "for i in ITEMS:\n",
    "    constraints.append(Sum([If(paths[c][p] == i, 1, 0) for c in COURIERS for p in ITEMS_PATH]) == 1)\n",
    "\n",
    "# Each courier delivers at least one item\n",
    "for c in COURIERS:\n",
    "    constraints.append(Sum([If(paths[c][p] != n, 1, 0) for p in ITEMS_PATH]) >= 1)\n",
    "\n",
    "# First element and last element in path is the origin (n+1)\n",
    "for c in COURIERS:\n",
    "    constraints.append(paths[c][0] == n )\n",
    "    constraints.append(paths[c][n] == n )\n",
    "\n",
    "# Each courier's items sizes must not excede his load size\n",
    "for i in ITEMS:\n",
    "    for c in COURIERS:\n",
    "        constraints.append(Sum([If(paths[c][p] == i, item_size[i], 0) for p in ITEMS_PATH]) <= load_size[c])\n",
    "    \n",
    "constraints"
   ]
  },
  {
   "attachments": {},
   "cell_type": "markdown",
   "metadata": {},
   "source": [
    "Solving the model:"
   ]
  },
  {
   "cell_type": "code",
   "execution_count": 86,
   "metadata": {},
   "outputs": [
    {
     "name": "stdout",
     "output_type": "stream",
     "text": [
      "0\n",
      "1\n",
      "2\n",
      "3\n",
      "4\n",
      "5\n"
     ]
    }
   ],
   "source": [
    "for i in ITEMS:\n",
    "    print(i)"
   ]
  },
  {
   "cell_type": "code",
   "execution_count": 90,
   "metadata": {},
   "outputs": [
    {
     "name": "stdout",
     "output_type": "stream",
     "text": [
      "[[6, 2, 4, 6, 3, 6, 6], [6, 0, 6, 6, 1, 5, 6]]\n"
     ]
    }
   ],
   "source": [
    "# add all the constraints to the solver\n",
    "s = Solver()\n",
    "s.add(constraints)\n",
    "# solve\n",
    "if s.check() == sat:\n",
    "    m = s.model()\n",
    "    # print the model in a readable format\n",
    "    paths_values = []\n",
    "    for i in range(len(paths)):\n",
    "        paths_values.append([m.evaluate(paths[i][j]) for j in range(len(paths[i]))])\n",
    "    print(paths_values)\n",
    "else:\n",
    "    print(\"unsat\")\n"
   ]
  }
 ],
 "metadata": {
  "kernelspec": {
   "display_name": "va",
   "language": "python",
   "name": "python3"
  },
  "language_info": {
   "codemirror_mode": {
    "name": "ipython",
    "version": 3
   },
   "file_extension": ".py",
   "mimetype": "text/x-python",
   "name": "python",
   "nbconvert_exporter": "python",
   "pygments_lexer": "ipython3",
   "version": "3.10.4"
  },
  "orig_nbformat": 4
 },
 "nbformat": 4,
 "nbformat_minor": 2
}
