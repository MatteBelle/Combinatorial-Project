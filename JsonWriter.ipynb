{
 "cells": [
  {
   "cell_type": "code",
   "execution_count": 3,
   "metadata": {},
   "outputs": [],
   "source": [
    "import json\n",
    "import numpy as np"
   ]
  },
  {
   "cell_type": "code",
   "execution_count": 58,
   "metadata": {},
   "outputs": [],
   "source": [
    "def printJson():\n",
    "\n",
    "    solverName = 'SCIP'\n",
    "    numInstances = 3\n",
    "    formatted_list = [\"%.2d\" % i for i in range(1, numInstances + 1)]\n",
    "    simple_list = [i for i in range(1, numInstances + 1)]\n",
    "   \n",
    "\n",
    "\n",
    "    for i in range(numInstances):\n",
    "         # open the file in Instances folder\n",
    "        f = open(f\"Instances/inst{formatted_list[i]}.dat\", \"r\")\n",
    "        # the first line is the number of couriers\n",
    "        m = int(f.readline())\n",
    "        # the second line is the number of items\n",
    "        n = int(f.readline())\n",
    "        # the third line is the load size of each courier\n",
    "        load_size = [int(x) for x in f.readline().split()]\n",
    "        # the fourth line is the size of each item\n",
    "        item_size = [int(x) for x in f.readline().split()]\n",
    "        # the rest is the distance matrix\n",
    "        distance = []\n",
    "        for j in range(n+1):\n",
    "            distance.append([int(x) for x in f.readline().split()])\n",
    "        # close the file\n",
    "        f.close()\n",
    "\n",
    "        #  time, var, obj, sol = solve_courier_problem(load_size, item_size, distance)\n",
    "\n",
    "        time = 3\n",
    "        opt = True\n",
    "        obj = 14\n",
    "        sol = [[1, 3, 4], [2, 5, 6]]\n",
    "\n",
    "\n",
    "        data = dict([(solverName,dict([\n",
    "            ('time', time),\n",
    "            ('optimal',opt),\n",
    "            ('obj', obj),\n",
    "            ('sol', sol)\n",
    "            ]))])\n",
    "\n",
    "\n",
    "        json_string = json.dumps(data)\n",
    "\n",
    "        with open(f'./output_folder/prova/{simple_list[i]}.json', 'w') as outfile:\n",
    "            outfile.write(json_string)\n"
   ]
  },
  {
   "cell_type": "code",
   "execution_count": 59,
   "metadata": {},
   "outputs": [
    {
     "name": "stdout",
     "output_type": "stream",
     "text": [
      "2\n",
      "6\n",
      "[15, 10]\n",
      "[3, 2, 6, 5, 4, 4]\n",
      "[[0, 3, 4, 5, 6, 6, 2], [3, 0, 1, 4, 5, 7, 3], [4, 1, 0, 5, 6, 6, 4], [4, 4, 5, 0, 3, 3, 2], [6, 7, 8, 3, 0, 2, 4], [6, 7, 8, 3, 2, 0, 4], [2, 3, 4, 3, 4, 4, 0]]\n",
      "------------------\n",
      "6\n",
      "9\n",
      "[190, 185, 185, 190, 195, 185]\n",
      "[11, 11, 23, 16, 2, 1, 24, 14, 20]\n",
      "[[0, 199, 119, 28, 179, 77, 145, 61, 123, 87], [199, 0, 81, 206, 38, 122, 55, 138, 76, 113], [119, 81, 0, 126, 69, 121, 26, 117, 91, 32], [28, 206, 126, 0, 186, 84, 152, 68, 130, 94], [169, 38, 79, 176, 0, 92, 58, 108, 46, 98], [77, 122, 121, 84, 102, 0, 100, 16, 46, 96], [145, 55, 26, 152, 58, 100, 0, 91, 70, 58], [61, 138, 113, 68, 118, 16, 91, 0, 62, 87], [123, 76, 91, 130, 56, 46, 70, 62, 0, 66], [87, 113, 32, 94, 94, 96, 58, 87, 66, 0]]\n",
      "------------------\n",
      "3\n",
      "7\n",
      "[15, 10, 7]\n",
      "[3, 2, 6, 8, 5, 4, 4]\n",
      "[[0, 3, 3, 6, 5, 6, 6, 2], [3, 0, 6, 3, 4, 7, 7, 3], [3, 4, 0, 7, 6, 3, 5, 3], [6, 3, 7, 0, 5, 6, 7, 4], [5, 4, 6, 3, 0, 3, 3, 3], [6, 7, 3, 6, 3, 0, 2, 4], [6, 7, 5, 6, 3, 2, 0, 4], [2, 3, 3, 4, 3, 4, 4, 0]]\n",
      "------------------\n"
     ]
    }
   ],
   "source": [
    "printJson()"
   ]
  },
  {
   "cell_type": "code",
   "execution_count": null,
   "metadata": {},
   "outputs": [],
   "source": []
  }
 ],
 "metadata": {
  "kernelspec": {
   "display_name": "va",
   "language": "python",
   "name": "python3"
  },
  "language_info": {
   "codemirror_mode": {
    "name": "ipython",
    "version": 3
   },
   "file_extension": ".py",
   "mimetype": "text/x-python",
   "name": "python",
   "nbconvert_exporter": "python",
   "pygments_lexer": "ipython3",
   "version": "3.10.4"
  },
  "orig_nbformat": 4
 },
 "nbformat": 4,
 "nbformat_minor": 2
}
