{
 "cells": [
  {
   "cell_type": "code",
   "execution_count": 3,
   "metadata": {},
   "outputs": [],
   "source": [
    "import json\n",
    "import numpy as np"
   ]
  },
  {
   "cell_type": "code",
   "execution_count": 58,
   "metadata": {},
   "outputs": [],
   "source": [
    "def printJson():\n",
    "\n",
    "    solverName = 'Z3'\n",
    "    numInstances = 10\n",
    "    formatted_list = [\"%.2d\" % i for i in range(1, numInstances + 1)]\n",
    "    simple_list = [i for i in range(1, numInstances + 1)]\n",
    "   \n",
    "\n",
    "\n",
    "    for i in range(numInstances):\n",
    "         # open the file in Instances folder\n",
    "        f = open(f\"Instances/inst{formatted_list[i]}.dat\", \"r\")\n",
    "        # the first line is the number of couriers\n",
    "        m = int(f.readline())\n",
    "        # the second line is the number of items\n",
    "        n = int(f.readline())\n",
    "        # the third line is the load size of each courier\n",
    "        load_size = [int(x) for x in f.readline().split()]\n",
    "        # the fourth line is the size of each item\n",
    "        item_size = [int(x) for x in f.readline().split()]\n",
    "        # the rest is the distance matrix\n",
    "        distance = []\n",
    "        for j in range(n+1):\n",
    "            distance.append([int(x) for x in f.readline().split()])\n",
    "        # close the file\n",
    "        f.close()\n",
    "\n",
    "        print(\"Solving Instance\", i+1, \"with Z3\")\n",
    "        obj, sol, time = solve_courier_problem(m,n, load_size, item_size, distance)\n",
    "        opt = True\n",
    "\n",
    "        #adding 1 to all the elements of sol\n",
    "        for j in range(len(sol)):\n",
    "            sol[j] = np.array(sol[j]) + 1\n",
    "            sol[j] = sol[j].tolist()\n",
    "\n",
    "\n",
    "\n",
    "        data = dict([(solverName,dict([\n",
    "            ('time', time),\n",
    "            ('optimal',opt),\n",
    "            ('obj', obj),\n",
    "            ('sol', sol)\n",
    "            ]))])\n",
    "\n",
    "\n",
    "        json_string = json.dumps(data)\n",
    "\n",
    "        with open(f'./output_folder/SMT/{simple_list[i]}.json', 'w') as outfile:\n",
    "            outfile.write(json_string)"
   ]
  },
  {
   "cell_type": "code",
   "execution_count": null,
   "metadata": {},
   "outputs": [],
   "source": []
  }
 ],
 "metadata": {
  "kernelspec": {
   "display_name": "va",
   "language": "python",
   "name": "python3"
  },
  "language_info": {
   "codemirror_mode": {
    "name": "ipython",
    "version": 3
   },
   "file_extension": ".py",
   "mimetype": "text/x-python",
   "name": "python",
   "nbconvert_exporter": "python",
   "pygments_lexer": "ipython3",
   "version": "3.10.4"
  },
  "orig_nbformat": 4
 },
 "nbformat": 4,
 "nbformat_minor": 2
}
