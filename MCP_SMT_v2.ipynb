{
 "cells": [
  {
   "cell_type": "markdown",
   "metadata": {},
   "source": [
    "SMT version for the MCP problem given in the Combinatorial Decision Making and Optimization course.\n",
    "\n",
    "The model is based on the one already developed for the CP version of the problem with the necessary modifications to make it work for the SMT version."
   ]
  },
  {
   "cell_type": "markdown",
   "metadata": {},
   "source": [
    "Necessary libraries:"
   ]
  },
  {
   "cell_type": "code",
   "execution_count": null,
   "metadata": {},
   "outputs": [],
   "source": [
    "!pip install z3-solver"
   ]
  },
  {
   "cell_type": "markdown",
   "metadata": {},
   "source": [
    "Necessary imports:"
   ]
  },
  {
   "cell_type": "code",
   "execution_count": 1,
   "metadata": {},
   "outputs": [],
   "source": [
    "from z3 import * # The Z3 Theorem Prover\n",
    "import numpy as np # Numpy for matrix operations\n",
    "import matplotlib.pyplot as plt # Matplotlib for plotting"
   ]
  },
  {
   "cell_type": "markdown",
   "metadata": {},
   "source": [
    "The variable instances (like number of couriers) are defined in a .dat file. The file is read and the variables are defined."
   ]
  },
  {
   "cell_type": "code",
   "execution_count": 40,
   "metadata": {},
   "outputs": [
    {
     "name": "stdout",
     "output_type": "stream",
     "text": [
      "couriers: 2\n",
      "items: 3\n",
      "load_size: [18, 30]\n",
      "item_size: [20, 17, 6]\n",
      "distance:\n",
      " [[ 0 21 86 99]\n",
      " [21  0 71 80]\n",
      " [92 71  0 61]\n",
      " [59 80 61  0]]\n"
     ]
    }
   ],
   "source": [
    "# open the file in Instances folder\n",
    "f = open(\"inst05.dat\", \"r\")\n",
    "# the first line is the number of couriers\n",
    "m = int(f.readline())\n",
    "# the second line is the number of items\n",
    "n = int(f.readline())\n",
    "# the third line is the load size of each courier\n",
    "load_size = [int(x) for x in f.readline().split()]\n",
    "# the fourth line is the size of each item\n",
    "item_size = [int(x) for x in f.readline().split()]\n",
    "# the rest is the distance matrix\n",
    "distance = []\n",
    "for i in range(n+1):\n",
    "    distance.append([int(x) for x in f.readline().split()])\n",
    "# close the file\n",
    "f.close()\n",
    "print(\"couriers:\", m)\n",
    "print(\"items:\", n)\n",
    "print(\"load_size:\", load_size)\n",
    "print(\"item_size:\", item_size)\n",
    "# output the distance matrix as a numpy array\n",
    "distance = np.array(distance)\n",
    "print(\"distance:\\n\", distance)"
   ]
  },
  {
   "cell_type": "markdown",
   "metadata": {},
   "source": [
    "Other variables:"
   ]
  },
  {
   "cell_type": "code",
   "execution_count": 41,
   "metadata": {},
   "outputs": [],
   "source": [
    "max_path_length = n-(m-1)\n",
    "paths = [[Int(\"p_%s_%s\" % (i,j)) for j in range(max_path_length)] for i in range(m)] \n",
    "# Create a solver instance\n",
    "s = Solver()\n"
   ]
  },
  {
   "cell_type": "markdown",
   "metadata": {},
   "source": [
    "Main constraints:"
   ]
  },
  {
   "cell_type": "code",
   "execution_count": 57,
   "metadata": {},
   "outputs": [
    {
     "name": "stdout",
     "output_type": "stream",
     "text": [
      "courier_distances: [[122], [160]]\n",
      "courier_loads: [[6], [37]]\n"
     ]
    }
   ],
   "source": [
    "constraints = []\n",
    "constraints.append(n>=m)\n",
    "\n",
    "# Each item has a size > 0 and <= max(load size)\n",
    "for i in range(n):\n",
    "    constraints.append(And(item_size[i] > 0, item_size[i] <= max(load_size)))\n",
    "\n",
    "# Each item is delivered at most by one courier, and at least by one courier\n",
    "for i in range(n):\n",
    "    constraints.append(Sum([If(paths[c][j] == i, 1, 0) for c in range(m) for j in range(max_path_length)]) == 1)\n",
    "\n",
    "max_distance = Int(\"max_distance\")\n",
    "courier_loads_sum = [Int(\"courier_loads_sum_%s\" % c) for c in range(m)] \n",
    "constraints.append(max_distance >= 0)\n",
    "for c in range(m):\n",
    "    constraints.append(courier_loads_sum[c] > 0)\n",
    "s.add(constraints)\n",
    "courier_distances = [[10000] for c in range(m)]\n",
    "courier_loads = [[0] for c in range(m)]\n",
    "for l in range(1000):\n",
    "    if s.check() == sat:\n",
    "        model = s.model()\n",
    "        # get the values of the paths\n",
    "        paths_values = [[model[paths[i][j]] for j in range(max_path_length)] for i in range(m)]\n",
    "        # get path for each courier as a list of items\n",
    "        paths_items = [[paths_values[i][j].as_long() for j in range(max_path_length) if paths_values[i][j].as_long() != n] for i in range(m)]\n",
    "        # get the total distance for each courier by adding also the distance from the depot to the first item and from the last item to the depot\n",
    "        for c in range(m):\n",
    "            dist = distance[n][paths_items[c][0]] + distance[paths_items[c][-1]][n]\n",
    "            for i in range(len(paths_items[c])-1):\n",
    "                dist += distance[paths_items[c][i]][paths_items[c][i+1]]\n",
    "            courier_distances[c][0] = dist\n",
    "            courier_loads[c][0] = sum([item_size[i] for i in paths_items[c]])\n",
    "        \n",
    "        s.add(max_distance < max([courier_distances[c][0] for c in range(m)]))\n",
    "        s.add(And([courier_loads_sum[c] < courier_loads[c][0] for c in range(m)]))\n",
    "        \n",
    "        \n",
    "print(\"courier_distances:\", courier_distances)\n",
    "print(\"courier_loads:\", courier_loads)\n",
    "  \n",
    "\n"
   ]
  },
  {
   "cell_type": "code",
   "execution_count": null,
   "metadata": {},
   "outputs": [],
   "source": []
  }
 ],
 "metadata": {
  "kernelspec": {
   "display_name": "va",
   "language": "python",
   "name": "python3"
  },
  "language_info": {
   "codemirror_mode": {
    "name": "ipython",
    "version": 3
   },
   "file_extension": ".py",
   "mimetype": "text/x-python",
   "name": "python",
   "nbconvert_exporter": "python",
   "pygments_lexer": "ipython3",
   "version": "3.10.2"
  },
  "orig_nbformat": 4
 },
 "nbformat": 4,
 "nbformat_minor": 2
}
