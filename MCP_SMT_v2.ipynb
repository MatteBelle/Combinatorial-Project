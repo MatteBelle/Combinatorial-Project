{
 "cells": [
  {
   "cell_type": "markdown",
   "metadata": {},
   "source": [
    "SMT version for the MCP problem given in the Combinatorial Decision Making and Optimization course.\n",
    "\n",
    "The model is based on the one already developed for the CP version of the problem with the necessary modifications to make it work for the SMT version."
   ]
  },
  {
   "cell_type": "markdown",
   "metadata": {},
   "source": [
    "Necessary libraries:"
   ]
  },
  {
   "cell_type": "code",
   "execution_count": null,
   "metadata": {},
   "outputs": [],
   "source": [
    "!pip install z3-solver"
   ]
  },
  {
   "cell_type": "markdown",
   "metadata": {},
   "source": [
    "Necessary imports:"
   ]
  },
  {
   "cell_type": "code",
   "execution_count": 20,
   "metadata": {},
   "outputs": [],
   "source": [
    "from z3 import * # The Z3 Theorem Prover\n",
    "import numpy as np # Numpy for matrix operations\n",
    "import matplotlib.pyplot as plt # Matplotlib for plotting"
   ]
  },
  {
   "cell_type": "markdown",
   "metadata": {},
   "source": [
    "The variable instances (like number of couriers) are defined in a .dat file. The file is read and the variables are defined."
   ]
  },
  {
   "cell_type": "code",
   "execution_count": 21,
   "metadata": {},
   "outputs": [
    {
     "name": "stdout",
     "output_type": "stream",
     "text": [
      "couriers: 6\n",
      "items: 17\n",
      "load_size: [190, 185, 185, 190, 195, 185]\n",
      "item_size: [11, 11, 23, 16, 2, 1, 24, 14, 20, 10, 11, 22, 2, 12, 9, 21, 10]\n",
      "distance:\n",
      " [[  0  20  19  28  58  48  45  32  90  61  71  59  65  46  72  51  46  66]\n",
      " [103   0  81 107  38 110  55  94  76 123  88  76  69  86  99 113 108 106]\n",
      " [ 73  41   0  80  40  29  26  13  75  42  70  58  46  27  53  32  27  47]\n",
      " [ 28  48  47   0  55  59  52  60  62  58  43  31  40  21  59  48  53  61]\n",
      " [ 83  38  79  87   0 102  58  92  56 103  68  56  49  67  79  94 106  86]\n",
      " [ 76  44  72  83  43   0  98  16  46  64  73  61  73  67  27  40  30  43]\n",
      " [ 65  55  26  64  58  55   0  39  69  68  50  38  26  31  66  58  53  56]\n",
      " [ 60  28  56  67  27  16  82   0  62  48  75  63  69  51  40  24  14  34]\n",
      " [ 58  76  77  81  55  46  69  62   0  56  43  31  43  53  23  80  76  30]\n",
      " [ 74  79  42  84  71  35  68  51  56   0  59  47  54  37  59  24  65  43]\n",
      " [ 15  35  34  43  12  43  41  47  39  47   0  12  24  10  16  37  61  32]\n",
      " [ 27  47  46  50  24  55  38  59  31  47  12   0  12  22  28  49  73  30]\n",
      " [ 39  59  46  38  36  56  26  59  43  54  24  12   0  19  40  45  73  37]\n",
      " [ 58  68  27  57  55  38  31  40  62  37  43  31  19   0  59  27  54  50]\n",
      " [ 61  68  80  84  58  27  72  40  23  59  46  34  46  56   0  64  54  16]\n",
      " [ 76  55  32  83  54  11  58  27  57  24  61  49  45  27  38   0  41  54]\n",
      " [ 46  14  42  53  13  21  68  14  67  34  71  59  55  37  48  10   0  47]\n",
      " [ 57  61  76  75  54  43  56  34  30  43  42  30  37  50  16  57  47   0]]\n"
     ]
    }
   ],
   "source": [
    "# open the file in Instances folder\n",
    "f = open(\"inst07.dat\", \"r\")\n",
    "# the first line is the number of couriers\n",
    "m = int(f.readline())\n",
    "# the second line is the number of items\n",
    "n = int(f.readline())\n",
    "# the third line is the load size of each courier\n",
    "load_size = [int(x) for x in f.readline().split()]\n",
    "# the fourth line is the size of each item\n",
    "item_size = [int(x) for x in f.readline().split()]\n",
    "# the rest is the distance matrix\n",
    "distance = []\n",
    "for i in range(n+1):\n",
    "    distance.append([int(x) for x in f.readline().split()])\n",
    "# close the file\n",
    "f.close()\n",
    "print(\"couriers:\", m)\n",
    "print(\"items:\", n)\n",
    "print(\"load_size:\", load_size)\n",
    "print(\"item_size:\", item_size)\n",
    "# output the distance matrix as a numpy array\n",
    "distance = np.array(distance)\n",
    "print(\"distance:\\n\", distance)"
   ]
  },
  {
   "cell_type": "markdown",
   "metadata": {},
   "source": [
    "Other variables:"
   ]
  },
  {
   "cell_type": "code",
   "execution_count": 22,
   "metadata": {},
   "outputs": [],
   "source": [
    "max_path_length = n-(m-1)\n",
    "paths = [[Int(\"p_%s_%s\" % (i,j)) for j in range(max_path_length)] for i in range(m)] \n",
    "# create a matrix of mxn boolean variables for the assignment of items to couriers\n",
    "assignment = [[Bool(\"a_%s_%s\" % (i,j)) for j in range(n)] for i in range(m)]\n",
    "# Create a solver instance\n",
    "s = Solver()\n"
   ]
  },
  {
   "cell_type": "markdown",
   "metadata": {},
   "source": [
    "Main constraints:"
   ]
  },
  {
   "cell_type": "code",
   "execution_count": 23,
   "metadata": {},
   "outputs": [
    {
     "name": "stdout",
     "output_type": "stream",
     "text": [
      "max_distance: 347\n",
      "paths_items: [[1, 7, 14, 10], [3], [13, 8], [4, 16, 5, 6, 12, 11], [0], [9, 2, 15]]\n",
      "courier_distances: [[273], [136], [142], [347], [123], [171]]\n",
      "max_distance: 248\n",
      "paths_items: [[8, 3], [13, 4, 14, 11], [10, 0, 15, 6], [16, 7, 9], [5], [2, 1, 12]]\n",
      "courier_distances: [[172], [248], [222], [152], [86], [223]]\n",
      "max_distance: 242\n",
      "paths_items: [[11, 3], [12, 10, 9], [16, 0, 15, 8], [4, 14], [13, 5, 6], [7, 1, 2]]\n",
      "courier_distances: [[141], [151], [231], [149], [242], [190]]\n",
      "max_distance: 241\n",
      "paths_items: [[0, 16, 1, 4], [3, 2, 5], [15, 10], [14, 7], [12, 11, 13], [9, 6, 8]]\n",
      "courier_distances: [[241], [194], [150], [90], [121], [210]]\n",
      "max_distance: 231\n",
      "paths_items: [[9, 7, 14], [15, 3, 12], [6, 4, 13], [8, 11, 5], [10, 16, 2], [0, 1]]\n",
      "courier_distances: [[150], [217], [231], [159], [192], [183]]\n",
      "max_distance: 224\n",
      "paths_items: [[16, 1], [15, 7, 5], [0], [12, 2, 3], [9, 8, 14], [10, 4, 13, 6, 11]]\n",
      "courier_distances: [[167], [143], [123], [224], [138], [220]]\n",
      "max_distance: 216\n",
      "paths_items: [[15, 12, 11, 10, 13, 9], [14, 7], [0, 6, 2, 16], [5], [1, 8], [4, 3]]\n",
      "courier_distances: [[216], [90], [202], [86], [167], [202]]\n"
     ]
    },
    {
     "ename": "KeyboardInterrupt",
     "evalue": "",
     "output_type": "error",
     "traceback": [
      "\u001b[1;31m---------------------------------------------------------------------------\u001b[0m",
      "\u001b[1;31mKeyboardInterrupt\u001b[0m                         Traceback (most recent call last)",
      "Cell \u001b[1;32mIn[23], line 33\u001b[0m\n\u001b[0;32m     31\u001b[0m loop_counter \u001b[39m=\u001b[39m \u001b[39m0\u001b[39m\n\u001b[0;32m     32\u001b[0m \u001b[39mfor\u001b[39;00m l \u001b[39min\u001b[39;00m \u001b[39mrange\u001b[39m(\u001b[39m1000\u001b[39m):\n\u001b[1;32m---> 33\u001b[0m     \u001b[39mif\u001b[39;00m s\u001b[39m.\u001b[39;49mcheck() \u001b[39m==\u001b[39m sat:\n\u001b[0;32m     34\u001b[0m         loop_counter \u001b[39m+\u001b[39m\u001b[39m=\u001b[39m \u001b[39m1\u001b[39m\n\u001b[0;32m     35\u001b[0m         model \u001b[39m=\u001b[39m s\u001b[39m.\u001b[39mmodel()\n",
      "File \u001b[1;32md:\\Universita\\MN\\envs\\va\\lib\\site-packages\\z3\\z3.py:7113\u001b[0m, in \u001b[0;36mSolver.check\u001b[1;34m(self, *assumptions)\u001b[0m\n\u001b[0;32m   7111\u001b[0m \u001b[39mfor\u001b[39;00m i \u001b[39min\u001b[39;00m \u001b[39mrange\u001b[39m(num):\n\u001b[0;32m   7112\u001b[0m     _assumptions[i] \u001b[39m=\u001b[39m s\u001b[39m.\u001b[39mcast(assumptions[i])\u001b[39m.\u001b[39mas_ast()\n\u001b[1;32m-> 7113\u001b[0m r \u001b[39m=\u001b[39m Z3_solver_check_assumptions(\u001b[39mself\u001b[39;49m\u001b[39m.\u001b[39;49mctx\u001b[39m.\u001b[39;49mref(), \u001b[39mself\u001b[39;49m\u001b[39m.\u001b[39;49msolver, num, _assumptions)\n\u001b[0;32m   7114\u001b[0m \u001b[39mreturn\u001b[39;00m CheckSatResult(r)\n",
      "File \u001b[1;32md:\\Universita\\MN\\envs\\va\\lib\\site-packages\\z3\\z3core.py:4164\u001b[0m, in \u001b[0;36mZ3_solver_check_assumptions\u001b[1;34m(a0, a1, a2, a3, _elems)\u001b[0m\n\u001b[0;32m   4163\u001b[0m \u001b[39mdef\u001b[39;00m \u001b[39mZ3_solver_check_assumptions\u001b[39m(a0, a1, a2, a3, _elems\u001b[39m=\u001b[39mElementaries(_lib\u001b[39m.\u001b[39mZ3_solver_check_assumptions)):\n\u001b[1;32m-> 4164\u001b[0m   r \u001b[39m=\u001b[39m _elems\u001b[39m.\u001b[39;49mf(a0, a1, a2, a3)\n\u001b[0;32m   4165\u001b[0m   _elems\u001b[39m.\u001b[39mCheck(a0)\n\u001b[0;32m   4166\u001b[0m   \u001b[39mreturn\u001b[39;00m r\n",
      "\u001b[1;31mKeyboardInterrupt\u001b[0m: "
     ]
    }
   ],
   "source": [
    "constraints = []\n",
    "constraints.append(n>=m)\n",
    "\n",
    "# Each item has a size > 0 and <= max(load size)\n",
    "for i in range(n):\n",
    "    constraints.append(And(item_size[i] > 0, item_size[i] <= max(load_size)))\n",
    "\n",
    "# Each item is delivered at most by one courier, and at least by one courier\n",
    "for i in range(n):\n",
    "    constraints.append(Sum([If(paths[c][j] == i, 1, 0) for c in range(m) for j in range(max_path_length)]) == 1)\n",
    "\n",
    "# assignement constraints \n",
    "for c in range(m):\n",
    "    for i in range(n):\n",
    "        constraints.append(assignment[c][i] == Or([paths[c][j] == i for j in range(max_path_length)]))\n",
    "\n",
    "# Each courier can carry at most its load size\n",
    "for c in range(m):\n",
    "    constraints.append(Sum([If(assignment[c][i], item_size[i], 0) for i in range(n)]) <= load_size[c])\n",
    "\n",
    "# Each courier must deliver at least one item\n",
    "for c in range(m):\n",
    "    constraints.append(Sum([If(assignment[c][i], 1, 0) for i in range(n)]) >= 1)\n",
    "\n",
    "best_max_distance = math.inf\n",
    "s.add(constraints)\n",
    "courier_distances = [[0] for c in range(m)]\n",
    "courier_loads = [[0] for c in range(m)]\n",
    "best_courier_distances = [[0] for c in range(m)]\n",
    "break_counter = 0\n",
    "loop_counter = 0\n",
    "for l in range(1000):\n",
    "    if s.check() == sat:\n",
    "        loop_counter += 1\n",
    "        model = s.model()\n",
    "        # get the values of the paths\n",
    "        paths_values = [[model[paths[i][j]] for j in range(max_path_length)] for i in range(m)]\n",
    "        # get path for each courier as a list of items, taking only the values in the range [0,n-1]\n",
    "        paths_items = [[paths_values[i][j].as_long() for j in range(max_path_length) if paths_values[i][j].as_long() < n] for i in range(m)]\n",
    "        paths_items = [list(filter(lambda x: x != -1, paths_items[i])) for i in range(m)] \n",
    "        # get the total distance for each courier by adding also the distance from the depot to the first item and from the last item to the depot\n",
    "        for c in range(m):\n",
    "            dist = distance[n][paths_items[c][0]] + distance[paths_items[c][-1]][n]\n",
    "            for i in range(len(paths_items[c])-1):\n",
    "                dist += distance[paths_items[c][i]][paths_items[c][i+1]]\n",
    "            courier_distances[c][0] = dist\n",
    "\n",
    "        # only accept solutions with max distance < best_max_distance\n",
    "        # and update best_max_distance\n",
    "        max_distance = max([courier_distances[c][0] for c in range(m)])\n",
    "        if max_distance < best_max_distance:\n",
    "            best_max_distance = max_distance\n",
    "            break_counter = loop_counter\n",
    "            best_courier_distances = courier_distances.copy()\n",
    "            print(\"max_distance:\", max_distance)\n",
    "            print(\"paths_items:\", paths_items)\n",
    "            print(\"courier_distances:\", courier_distances)\n",
    "        else:\n",
    "            if loop_counter - break_counter > 200:\n",
    "                break\n"
   ]
  },
  {
   "cell_type": "code",
   "execution_count": null,
   "metadata": {},
   "outputs": [],
   "source": []
  }
 ],
 "metadata": {
  "kernelspec": {
   "display_name": "va",
   "language": "python",
   "name": "python3"
  },
  "language_info": {
   "codemirror_mode": {
    "name": "ipython",
    "version": 3
   },
   "file_extension": ".py",
   "mimetype": "text/x-python",
   "name": "python",
   "nbconvert_exporter": "python",
   "pygments_lexer": "ipython3",
   "version": "3.10.2"
  },
  "orig_nbformat": 4
 },
 "nbformat": 4,
 "nbformat_minor": 2
}
