{
 "cells": [
  {
   "cell_type": "markdown",
   "metadata": {},
   "source": [
    "SMT version for the MCP problem given in the Combinatorial Decision Making and Optimization course.\n",
    "\n",
    "The model is based on the one already developed for the CP version of the problem with the necessary modifications to make it work for the SMT version."
   ]
  },
  {
   "cell_type": "markdown",
   "metadata": {},
   "source": [
    "Necessary libraries:"
   ]
  },
  {
   "cell_type": "code",
   "execution_count": null,
   "metadata": {},
   "outputs": [],
   "source": [
    "!pip install z3-solver"
   ]
  },
  {
   "cell_type": "markdown",
   "metadata": {},
   "source": [
    "Necessary imports:"
   ]
  },
  {
   "cell_type": "code",
   "execution_count": 2,
   "metadata": {},
   "outputs": [],
   "source": [
    "from z3 import * # The Z3 Theorem Prover\n",
    "import numpy as np # Numpy for matrix operations\n",
    "import matplotlib.pyplot as plt # Matplotlib for plotting"
   ]
  },
  {
   "cell_type": "markdown",
   "metadata": {},
   "source": [
    "The variable instances (like number of couriers) are defined in a .dat file. The file is read and the variables are defined."
   ]
  },
  {
   "cell_type": "code",
   "execution_count": 3,
   "metadata": {},
   "outputs": [
    {
     "name": "stdout",
     "output_type": "stream",
     "text": [
      "couriers: 10\n",
      "items: 13\n",
      "load_size: [185, 190, 200, 180, 200, 190, 200, 180, 195, 190]\n",
      "item_size: [22, 17, 10, 8, 14, 12, 17, 19, 25, 25, 6, 21, 6]\n",
      "distance:\n",
      " [[  0  21  86  14  84  72  24  54  83  70   8  91  42  57]\n",
      " [ 21   0  71  35  70  51  16  75  62  91  29  70  57  52]\n",
      " [ 86  71   0 100  39  70  87 137  81  73  78 103 128  33]\n",
      " [ 14  35 100   0  98  86  38  49  97  56  22 105  29  71]\n",
      " [ 84  70  39  98   0 109  86 135 120  57  76 129 126  27]\n",
      " [ 63  51  70  77 109   0  49 117  11 133  71  64  90 103]\n",
      " [ 24  16  87  38  86  49   0  78  60  94  32  67  41  60]\n",
      " [ 63  84 137  49 135 135  87   0 146  79  59 154  65 108]\n",
      " [ 74  62  81  88 120  11  60 128   0 144  82  68  94 114]\n",
      " [ 70  91  73  56  57 142  94  79 153   0  63 161  72  40]\n",
      " [  8  29  78  22  76  80  32  59  91  63   0  99  50  49]\n",
      " [ 91  70 133 105 129  64  67 145  68 161  99   0  91 122]\n",
      " [ 42  57 128  29 126  90  41  65  94  72  50  91   0  99]\n",
      " [ 57  52  33  71  27 103  60 108 114  40  49 122  99   0]]\n"
     ]
    }
   ],
   "source": [
    "# open the file in Instances folder\n",
    "f = open(\"inst10.dat\", \"r\")\n",
    "# the first line is the number of couriers\n",
    "m = int(f.readline())\n",
    "# the second line is the number of items\n",
    "n = int(f.readline())\n",
    "# the third line is the load size of each courier\n",
    "load_size = [int(x) for x in f.readline().split()]\n",
    "# the fourth line is the size of each item\n",
    "item_size = [int(x) for x in f.readline().split()]\n",
    "# the rest is the distance matrix\n",
    "distance = []\n",
    "for i in range(n+1):\n",
    "    distance.append([int(x) for x in f.readline().split()])\n",
    "# close the file\n",
    "f.close()\n",
    "print(\"couriers:\", m)\n",
    "print(\"items:\", n)\n",
    "print(\"load_size:\", load_size)\n",
    "print(\"item_size:\", item_size)\n",
    "# output the distance matrix as a numpy array\n",
    "distance = np.array(distance)\n",
    "print(\"distance:\\n\", distance)"
   ]
  },
  {
   "cell_type": "markdown",
   "metadata": {},
   "source": [
    "Other variables:"
   ]
  },
  {
   "cell_type": "code",
   "execution_count": 4,
   "metadata": {},
   "outputs": [],
   "source": [
    "max_path_length = n-(m-1)\n",
    "paths = [[Int(\"p_%s_%s\" % (i,j)) for j in range(max_path_length)] for i in range(m)] \n",
    "# create a matrix of mxn boolean variables for the assignment of items to couriers\n",
    "assignment = [[Bool(\"a_%s_%s\" % (i,j)) for j in range(n)] for i in range(m)]\n",
    "# Create a solver instance\n",
    "s = Solver()\n"
   ]
  },
  {
   "cell_type": "markdown",
   "metadata": {},
   "source": [
    "Main constraints:"
   ]
  },
  {
   "cell_type": "code",
   "execution_count": 5,
   "metadata": {},
   "outputs": [
    {
     "name": "stdout",
     "output_type": "stream",
     "text": [
      "max_distance: 306\n",
      "paths_items: [[3], [10], [11], [2, 7, 1], [5], [12], [6, 4], [9], [0], [8]]\n",
      "courier_distances: [[142], [98], [244], [306], [206], [198], [173], [80], [114], [228]]\n",
      "max_distance: 270\n",
      "paths_items: [[7], [9], [11, 10], [0], [2], [3], [4, 5], [6, 8], [12], [1]]\n",
      "courier_distances: [[216], [80], [270], [114], [66], [142], [239], [234], [198], [104]]\n",
      "max_distance: 246\n",
      "paths_items: [[3], [5], [10, 12], [4, 2], [11], [1], [9], [0], [6, 7], [8]]\n",
      "courier_distances: [[142], [206], [198], [99], [244], [104], [80], [114], [246], [228]]\n",
      "max_distance: 244\n",
      "paths_items: [[0], [7], [1, 3], [11], [9], [8, 2], [10], [6], [4, 5], [12]]\n",
      "courier_distances: [[114], [216], [158], [244], [80], [228], [98], [120], [239], [198]]\n"
     ]
    }
   ],
   "source": [
    "constraints = []\n",
    "constraints.append(n>=m)\n",
    "\n",
    "# Each item has a size > 0 and <= max(load size)\n",
    "for i in range(n):\n",
    "    constraints.append(And(item_size[i] > 0, item_size[i] <= max(load_size)))\n",
    "\n",
    "# Each item is delivered at most by one courier, and at least by one courier\n",
    "for i in range(n):\n",
    "    constraints.append(Sum([If(paths[c][j] == i, 1, 0) for c in range(m) for j in range(max_path_length)]) == 1)\n",
    "\n",
    "# assignement constraints \n",
    "for c in range(m):\n",
    "    for i in range(n):\n",
    "        constraints.append(assignment[c][i] == Or([paths[c][j] == i for j in range(max_path_length)]))\n",
    "\n",
    "# Each courier can carry at most its load size\n",
    "for c in range(m):\n",
    "    constraints.append(Sum([If(assignment[c][i], item_size[i], 0) for i in range(n)]) <= load_size[c])\n",
    "\n",
    "# Each courier must deliver at least one item\n",
    "for c in range(m):\n",
    "    constraints.append(Sum([If(assignment[c][i], 1, 0) for i in range(n)]) >= 1)\n",
    "\n",
    "best_max_distance = math.inf\n",
    "s.add(constraints)\n",
    "courier_distances = [[0] for c in range(m)]\n",
    "courier_loads = [[0] for c in range(m)]\n",
    "best_courier_distances = [[0] for c in range(m)]\n",
    "break_counter = 0\n",
    "loop_counter = 0\n",
    "for l in range(1000):\n",
    "    if s.check() == sat:\n",
    "        loop_counter += 1\n",
    "        model = s.model()\n",
    "        # get the values of the paths\n",
    "        paths_values = [[model[paths[i][j]] for j in range(max_path_length)] for i in range(m)]\n",
    "        # get path for each courier as a list of items, taking only the values in the range [0,n-1]\n",
    "        paths_items = [[paths_values[i][j].as_long() for j in range(max_path_length) if paths_values[i][j].as_long() < n] for i in range(m)]\n",
    "        paths_items = [list(filter(lambda x: x != -1, paths_items[i])) for i in range(m)] \n",
    "        # get the total distance for each courier by adding also the distance from the depot to the first item and from the last item to the depot\n",
    "        for c in range(m):\n",
    "            dist = distance[n][paths_items[c][0]] + distance[paths_items[c][-1]][n]\n",
    "            for i in range(len(paths_items[c])-1):\n",
    "                dist += distance[paths_items[c][i]][paths_items[c][i+1]]\n",
    "            courier_distances[c][0] = dist\n",
    "\n",
    "        # only accept solutions with max distance < best_max_distance\n",
    "        # and update best_max_distance\n",
    "        max_distance = max([courier_distances[c][0] for c in range(m)])\n",
    "        if max_distance < best_max_distance:\n",
    "            best_max_distance = max_distance\n",
    "            break_counter = loop_counter\n",
    "            best_courier_distances = courier_distances.copy()\n",
    "            print(\"max_distance:\", max_distance)\n",
    "            print(\"paths_items:\", paths_items)\n",
    "            print(\"courier_distances:\", courier_distances)\n",
    "        else:\n",
    "            if loop_counter - break_counter > 200:\n",
    "                break\n",
    "    else:\n",
    "        break\n"
   ]
  },
  {
   "cell_type": "code",
   "execution_count": null,
   "metadata": {},
   "outputs": [],
   "source": []
  }
 ],
 "metadata": {
  "kernelspec": {
   "display_name": "va",
   "language": "python",
   "name": "python3"
  },
  "language_info": {
   "codemirror_mode": {
    "name": "ipython",
    "version": 3
   },
   "file_extension": ".py",
   "mimetype": "text/x-python",
   "name": "python",
   "nbconvert_exporter": "python",
   "pygments_lexer": "ipython3",
   "version": "3.10.2"
  },
  "orig_nbformat": 4
 },
 "nbformat": 4,
 "nbformat_minor": 2
}
