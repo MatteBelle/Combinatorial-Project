{
 "cells": [
  {
   "attachments": {},
   "cell_type": "markdown",
   "metadata": {},
   "source": [
    "SMT version for the MCP problem given in the Combinatorial Decision Making and Optimization course.\n",
    "\n",
    "The model is based on the one already developed for the CP version of the problem with the necessary modifications to make it work for the SMT version."
   ]
  },
  {
   "attachments": {},
   "cell_type": "markdown",
   "metadata": {},
   "source": [
    "Necessary libraries:"
   ]
  },
  {
   "cell_type": "code",
   "execution_count": null,
   "metadata": {},
   "outputs": [],
   "source": [
    "!pip install z3-solver"
   ]
  },
  {
   "attachments": {},
   "cell_type": "markdown",
   "metadata": {},
   "source": [
    "Necessary imports:"
   ]
  },
  {
   "cell_type": "code",
   "execution_count": 16,
   "metadata": {},
   "outputs": [],
   "source": [
    "from z3 import * # The Z3 Theorem Prover\n",
    "import numpy as np # Numpy for matrix operations\n",
    "import matplotlib.pyplot as plt # Matplotlib for plotting\n",
    "import time"
   ]
  },
  {
   "attachments": {},
   "cell_type": "markdown",
   "metadata": {},
   "source": [
    "The variable instances (like number of couriers) are defined in a .dat file. The file is read and the variables are defined."
   ]
  },
  {
   "cell_type": "code",
   "execution_count": 24,
   "metadata": {},
   "outputs": [
    {
     "name": "stdout",
     "output_type": "stream",
     "text": [
      "couriers: 2\n",
      "items: 6\n",
      "load_size: [15, 10]\n",
      "item_size: [3, 2, 6, 5, 4, 4]\n",
      "distance:\n",
      " [[0 3 4 5 6 6 2]\n",
      " [3 0 1 4 5 7 3]\n",
      " [4 1 0 5 6 6 4]\n",
      " [4 4 5 0 3 3 2]\n",
      " [6 7 8 3 0 2 4]\n",
      " [6 7 8 3 2 0 4]\n",
      " [2 3 4 3 4 4 0]]\n"
     ]
    }
   ],
   "source": [
    "# open the file in Instances folder\n",
    "f = open(\"Instances/inst01.dat\", \"r\")\n",
    "# the first line is the number of couriers\n",
    "m = int(f.readline())\n",
    "# the second line is the number of items\n",
    "n = int(f.readline())\n",
    "# the third line is the load size of each courier\n",
    "load_size = [int(x) for x in f.readline().split()]\n",
    "# the fourth line is the size of each item\n",
    "item_size = [int(x) for x in f.readline().split()]\n",
    "# the rest is the distance matrix\n",
    "distance = []\n",
    "for i in range(n+1):\n",
    "    distance.append([int(x) for x in f.readline().split()])\n",
    "# close the file\n",
    "f.close()\n",
    "print(\"couriers:\", m)\n",
    "print(\"items:\", n)\n",
    "print(\"load_size:\", load_size)\n",
    "print(\"item_size:\", item_size)\n",
    "# output the distance matrix as a numpy array\n",
    "distance = np.array(distance)\n",
    "print(\"distance:\\n\", distance)"
   ]
  },
  {
   "attachments": {},
   "cell_type": "markdown",
   "metadata": {},
   "source": [
    "Other variables:"
   ]
  },
  {
   "cell_type": "code",
   "execution_count": 25,
   "metadata": {},
   "outputs": [],
   "source": [
    "max_path_length = n-(m-1)\n",
    "paths = [[Int(\"p_%s_%s\" % (i,j)) for j in range(max_path_length)] for i in range(m)] \n",
    "# create a matrix of mxn boolean variables for the assignment of items to couriers\n",
    "assignment = [[Bool(\"a_%s_%s\" % (i,j)) for j in range(n)] for i in range(m)]\n",
    "# Create a solver instance\n",
    "s = Solver()\n"
   ]
  },
  {
   "attachments": {},
   "cell_type": "markdown",
   "metadata": {},
   "source": [
    "Main constraints:"
   ]
  },
  {
   "cell_type": "code",
   "execution_count": 26,
   "metadata": {},
   "outputs": [
    {
     "name": "stdout",
     "output_type": "stream",
     "text": [
      "max_distance: 18\n",
      "paths_items: [[5, 4, 2], [0, 1, 3]]\n",
      "courier_distances: [[18], [11]]\n",
      "max_distance: 17\n",
      "paths_items: [[5, 3, 0, 1], [2, 4]]\n",
      "courier_distances: [[17], [14]]\n",
      "max_distance: 16\n",
      "paths_items: [[1, 3, 4, 5], [2, 0]]\n",
      "courier_distances: [[16], [10]]\n",
      "max_distance: 14\n",
      "paths_items: [[3, 2, 0], [1, 4, 5]]\n",
      "courier_distances: [[14], [14]]\n",
      "elapsed_time: 2.549269199371338\n"
     ]
    }
   ],
   "source": [
    "constraints = []\n",
    "constraints.append(n>=m)\n",
    "\n",
    "# Each item has a size > 0 and <= max(load size)\n",
    "for i in range(n):\n",
    "    constraints.append(And(item_size[i] > 0, item_size[i] <= max(load_size)))\n",
    "\n",
    "# Each item is delivered at most by one courier, and at least by one courier\n",
    "for i in range(n):\n",
    "    constraints.append(Sum([If(paths[c][j] == i, 1, 0) for c in range(m) for j in range(max_path_length)]) == 1)\n",
    "\n",
    "# assignment constraints \n",
    "for c in range(m):\n",
    "    for i in range(n):\n",
    "        constraints.append(assignment[c][i] == Or([paths[c][j] == i for j in range(max_path_length)]))\n",
    "\n",
    "# Each courier can carry at most its load size\n",
    "for c in range(m):\n",
    "    constraints.append(Sum([If(assignment[c][i], item_size[i], 0) for i in range(n)]) <= load_size[c])\n",
    "\n",
    "# Each courier must deliver at least one item\n",
    "for c in range(m):\n",
    "    constraints.append(Sum([If(assignment[c][i], 1, 0) for i in range(n)]) >= 1)\n",
    "\n",
    "best_max_distance = math.inf\n",
    "s.add(constraints)\n",
    "courier_distances = [[0] for c in range(m)]\n",
    "courier_loads = [[0] for c in range(m)]\n",
    "best_courier_distances = [[0] for c in range(m)]\n",
    "break_counter = 0\n",
    "loop_counter = 0\n",
    "st = time.time()\n",
    "for l in range(1000):\n",
    "    if s.check() == sat:\n",
    "        loop_counter += 1\n",
    "        model = s.model()\n",
    "        # get the values of the paths\n",
    "        paths_values = [[model[paths[i][j]] for j in range(max_path_length)] for i in range(m)]\n",
    "        # get path for each courier as a list of items, taking only the values in the range [0,n-1]\n",
    "        paths_items = [[paths_values[i][j].as_long() for j in range(max_path_length) if paths_values[i][j].as_long() < n] for i in range(m)]\n",
    "        paths_items = [list(filter(lambda x: x != -1, paths_items[i])) for i in range(m)] \n",
    "        # get the total distance for each courier by adding also the distance from the depot to the first item and from the last item to the depot\n",
    "        for c in range(m):\n",
    "            dist = distance[n][paths_items[c][0]] + distance[paths_items[c][-1]][n]\n",
    "            for i in range(len(paths_items[c])-1):\n",
    "                dist += distance[paths_items[c][i]][paths_items[c][i+1]]\n",
    "            courier_distances[c][0] = dist\n",
    "\n",
    "        # only accept solutions with max distance < best_max_distance\n",
    "        # and update best_max_distance\n",
    "        max_distance = max([courier_distances[c][0] for c in range(m)])\n",
    "        if max_distance < best_max_distance:\n",
    "            best_max_distance = max_distance\n",
    "            break_counter = loop_counter\n",
    "            best_courier_distances = courier_distances.copy()\n",
    "            print(\"max_distance:\", max_distance)\n",
    "            print(\"paths_items:\", paths_items)\n",
    "            print(\"courier_distances:\", courier_distances)\n",
    "        else:\n",
    "            if loop_counter - break_counter > 200:\n",
    "                break\n",
    "    else:\n",
    "        break\n",
    "et = time.time()\n",
    "elapsed_time = et - st\n",
    "print(\"elapsed_time:\", elapsed_time)\n"
   ]
  },
  {
   "cell_type": "code",
   "execution_count": 27,
   "metadata": {},
   "outputs": [
    {
     "data": {
      "text/plain": [
       "[[p_0_0, p_0_1, p_0_2, p_0_3, p_0_4], [p_1_0, p_1_1, p_1_2, p_1_3, p_1_4]]"
      ]
     },
     "execution_count": 27,
     "metadata": {},
     "output_type": "execute_result"
    }
   ],
   "source": [
    "paths"
   ]
  },
  {
   "cell_type": "code",
   "execution_count": null,
   "metadata": {},
   "outputs": [],
   "source": []
  }
 ],
 "metadata": {
  "kernelspec": {
   "display_name": "va",
   "language": "python",
   "name": "python3"
  },
  "language_info": {
   "codemirror_mode": {
    "name": "ipython",
    "version": 3
   },
   "file_extension": ".py",
   "mimetype": "text/x-python",
   "name": "python",
   "nbconvert_exporter": "python",
   "pygments_lexer": "ipython3",
   "version": "3.10.4"
  },
  "orig_nbformat": 4
 },
 "nbformat": 4,
 "nbformat_minor": 2
}
